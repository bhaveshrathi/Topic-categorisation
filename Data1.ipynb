{
 "cells": [
  {
   "cell_type": "markdown",
   "metadata": {
    "id": "1Cw0Tht-FKwQ"
   },
   "source": [
    "# Data Preprocessing 1"
   ]
  },
  {
   "cell_type": "markdown",
   "metadata": {
    "id": "-o-yFUGJFKwc"
   },
   "source": [
    "### Importing Dataset"
   ]
  },
  {
   "cell_type": "code",
   "execution_count": 17,
   "metadata": {
    "id": "JFC_t_gcFKwf"
   },
   "outputs": [],
   "source": [
    "#raw data is in csv file named news.csv\n",
    "import pandas as pd\n",
    "df=pd.read_csv('news.csv') "
   ]
  },
  {
   "cell_type": "code",
   "execution_count": 18,
   "metadata": {
    "id": "zRDGXB2cFKwi",
    "outputId": "2f8c4c79-2caf-4f24-879f-b35c0c0ac781"
   },
   "outputs": [
    {
     "data": {
      "text/html": [
       "<div>\n",
       "<style scoped>\n",
       "    .dataframe tbody tr th:only-of-type {\n",
       "        vertical-align: middle;\n",
       "    }\n",
       "\n",
       "    .dataframe tbody tr th {\n",
       "        vertical-align: top;\n",
       "    }\n",
       "\n",
       "    .dataframe thead th {\n",
       "        text-align: right;\n",
       "    }\n",
       "</style>\n",
       "<table border=\"1\" class=\"dataframe\">\n",
       "  <thead>\n",
       "    <tr style=\"text-align: right;\">\n",
       "      <th></th>\n",
       "      <th>category</th>\n",
       "      <th>headline</th>\n",
       "      <th>short_description</th>\n",
       "    </tr>\n",
       "  </thead>\n",
       "  <tbody>\n",
       "    <tr>\n",
       "      <th>0</th>\n",
       "      <td>CRIME</td>\n",
       "      <td>There Were 2 Mass Shootings In Texas Last Week...</td>\n",
       "      <td>She left her husband. He killed their children...</td>\n",
       "    </tr>\n",
       "    <tr>\n",
       "      <th>1</th>\n",
       "      <td>ENTERTAINMENT</td>\n",
       "      <td>Will Smith Joins Diplo And Nicky Jam For The 2...</td>\n",
       "      <td>Of course it has a song.</td>\n",
       "    </tr>\n",
       "    <tr>\n",
       "      <th>2</th>\n",
       "      <td>ENTERTAINMENT</td>\n",
       "      <td>Hugh Grant Marries For The First Time At Age 57</td>\n",
       "      <td>The actor and his longtime girlfriend Anna Ebe...</td>\n",
       "    </tr>\n",
       "    <tr>\n",
       "      <th>3</th>\n",
       "      <td>ENTERTAINMENT</td>\n",
       "      <td>Jim Carrey Blasts 'Castrato' Adam Schiff And D...</td>\n",
       "      <td>The actor gives Dems an ass-kicking for not fi...</td>\n",
       "    </tr>\n",
       "    <tr>\n",
       "      <th>4</th>\n",
       "      <td>ENTERTAINMENT</td>\n",
       "      <td>Julianna Margulies Uses Donald Trump Poop Bags...</td>\n",
       "      <td>The \"Dietland\" actress said using the bags is ...</td>\n",
       "    </tr>\n",
       "  </tbody>\n",
       "</table>\n",
       "</div>"
      ],
      "text/plain": [
       "        category                                           headline  \\\n",
       "0          CRIME  There Were 2 Mass Shootings In Texas Last Week...   \n",
       "1  ENTERTAINMENT  Will Smith Joins Diplo And Nicky Jam For The 2...   \n",
       "2  ENTERTAINMENT    Hugh Grant Marries For The First Time At Age 57   \n",
       "3  ENTERTAINMENT  Jim Carrey Blasts 'Castrato' Adam Schiff And D...   \n",
       "4  ENTERTAINMENT  Julianna Margulies Uses Donald Trump Poop Bags...   \n",
       "\n",
       "                                   short_description  \n",
       "0  She left her husband. He killed their children...  \n",
       "1                           Of course it has a song.  \n",
       "2  The actor and his longtime girlfriend Anna Ebe...  \n",
       "3  The actor gives Dems an ass-kicking for not fi...  \n",
       "4  The \"Dietland\" actress said using the bags is ...  "
      ]
     },
     "execution_count": 18,
     "metadata": {},
     "output_type": "execute_result"
    }
   ],
   "source": [
    "df.head()"
   ]
  },
  {
   "cell_type": "markdown",
   "metadata": {
    "id": "eoN5QyycFKwm"
   },
   "source": [
    "### Data Analysis"
   ]
  },
  {
   "cell_type": "code",
   "execution_count": 19,
   "metadata": {
    "id": "wc-EPXXRFKwo",
    "outputId": "e33fa9f7-15a3-4e29-da54-ca35e46d1d6b"
   },
   "outputs": [
    {
     "name": "stdout",
     "output_type": "stream",
     "text": [
      "<class 'pandas.core.frame.DataFrame'>\n",
      "RangeIndex: 200853 entries, 0 to 200852\n",
      "Data columns (total 3 columns):\n",
      "category             200853 non-null object\n",
      "headline             200847 non-null object\n",
      "short_description    181141 non-null object\n",
      "dtypes: object(3)\n",
      "memory usage: 4.6+ MB\n"
     ]
    }
   ],
   "source": [
    "df.info()"
   ]
  },
  {
   "cell_type": "code",
   "execution_count": 20,
   "metadata": {
    "id": "oRyf0eQcFKwq",
    "outputId": "c0727f2a-39fe-4937-805a-8e9992ef7bb0"
   },
   "outputs": [
    {
     "data": {
      "text/plain": [
       "(200853, 3)"
      ]
     },
     "execution_count": 20,
     "metadata": {},
     "output_type": "execute_result"
    }
   ],
   "source": [
    "df.shape"
   ]
  },
  {
   "cell_type": "code",
   "execution_count": 21,
   "metadata": {
    "id": "xfdMEbEmFKws",
    "outputId": "26a4eb6d-5534-4b2c-cd77-ab40f2a90b18"
   },
   "outputs": [
    {
     "name": "stdout",
     "output_type": "stream",
     "text": [
      "\n",
      "Headline\n",
      "There Were 2 Mass Shootings In Texas Last Week, But Only 1 On TV\n",
      "\n",
      "Short Description\n",
      "She left her husband. He killed their children. Just another day in America.\n",
      "\n",
      "Category\n",
      "CRIME\n",
      "\n",
      "\n",
      "\n"
     ]
    }
   ],
   "source": [
    "#checking data\n",
    "\n",
    "news_example = df.loc[0]\n",
    "print(f\"\"\"\n",
    "Headline\n",
    "{news_example['headline']}\n",
    "\n",
    "Short Description\n",
    "{news_example['short_description']}\n",
    "\n",
    "Category\n",
    "{news_example['category']}\n",
    "\n",
    "\n",
    "\"\"\")"
   ]
  },
  {
   "cell_type": "code",
   "execution_count": 22,
   "metadata": {
    "id": "4x2Vqsx8FKwv",
    "outputId": "c651ea4d-7834-46d9-fd8f-d70006214153"
   },
   "outputs": [
    {
     "name": "stdout",
     "output_type": "stream",
     "text": [
      "\n",
      "Headline\n",
      "Will Smith Joins Diplo And Nicky Jam For The 2018 World Cup's Official Song\n",
      "\n",
      "Short Description\n",
      "Of course it has a song.\n",
      "\n",
      "Category\n",
      "ENTERTAINMENT\n",
      "\n",
      "\n",
      "\n"
     ]
    }
   ],
   "source": [
    "news_example = df.loc[1]\n",
    "print(f\"\"\"\n",
    "Headline\n",
    "{news_example['headline']}\n",
    "\n",
    "Short Description\n",
    "{news_example['short_description']}\n",
    "\n",
    "Category\n",
    "{news_example['category']}\n",
    "\n",
    "\n",
    "\"\"\")"
   ]
  },
  {
   "cell_type": "code",
   "execution_count": 23,
   "metadata": {
    "id": "VptnTefaFKwz",
    "outputId": "ef04be2b-8b5f-435d-a8da-f0460070e967"
   },
   "outputs": [
    {
     "name": "stdout",
     "output_type": "stream",
     "text": [
      "\n",
      "Category count: 41\n",
      "POLITICS          32739\n",
      "WELLNESS          17827\n",
      "ENTERTAINMENT     16058\n",
      "TRAVEL             9887\n",
      "STYLE & BEAUTY     9649\n",
      "PARENTING          8677\n",
      "HEALTHY LIVING     6694\n",
      "QUEER VOICES       6314\n",
      "FOOD & DRINK       6226\n",
      "BUSINESS           5937\n",
      "COMEDY             5175\n",
      "SPORTS             4884\n",
      "BLACK VOICES       4528\n",
      "HOME & LIVING      4195\n",
      "PARENTS            3955\n",
      "THE WORLDPOST      3664\n",
      "WEDDINGS           3651\n",
      "WOMEN              3490\n",
      "IMPACT             3459\n",
      "DIVORCE            3426\n",
      "CRIME              3405\n",
      "MEDIA              2815\n",
      "WEIRD NEWS         2670\n",
      "GREEN              2622\n",
      "WORLDPOST          2579\n",
      "RELIGION           2556\n",
      "STYLE              2254\n",
      "SCIENCE            2178\n",
      "WORLD NEWS         2177\n",
      "TASTE              2096\n",
      "TECH               2082\n",
      "MONEY              1707\n",
      "ARTS               1509\n",
      "FIFTY              1401\n",
      "GOOD NEWS          1398\n",
      "ARTS & CULTURE     1339\n",
      "ENVIRONMENT        1323\n",
      "COLLEGE            1144\n",
      "LATINO VOICES      1129\n",
      "CULTURE & ARTS     1030\n",
      "EDUCATION          1004\n",
      "Name: category, dtype: int64\n",
      "\n"
     ]
    }
   ],
   "source": [
    "#Checking number of rows for every Category\n",
    "\n",
    "print(f\"\"\"\n",
    "Category count: {len(df['category'].value_counts())}\n",
    "{df['category'].value_counts()}\n",
    "\"\"\")"
   ]
  },
  {
   "cell_type": "code",
   "execution_count": 24,
   "metadata": {
    "id": "n7YBgrWTFKw1"
   },
   "outputs": [],
   "source": [
    "%matplotlib inline\n",
    "import seaborn as sns \n",
    "#used for data visualization\n",
    "\n",
    "sns.set(rc={'figure.figsize':(55,25)})"
   ]
  },
  {
   "cell_type": "code",
   "execution_count": 25,
   "metadata": {
    "id": "BdF2AWKPFKw2"
   },
   "outputs": [],
   "source": [
    "values = df['category'].value_counts()"
   ]
  },
  {
   "cell_type": "markdown",
   "metadata": {
    "id": "RvIX2ZExFKw4"
   },
   "source": [
    "Plotting graphs on Topic "
   ]
  },
  {
   "cell_type": "code",
   "execution_count": 26,
   "metadata": {
    "id": "fxRYbDaAFKw6",
    "outputId": "2d308b30-b50b-486e-88d1-7e7c26a2713f"
   },
   "outputs": [
    {
     "ename": "NameError",
     "evalue": "name 'snvalues' is not defined",
     "output_type": "error",
     "traceback": [
      "\u001b[1;31m---------------------------------------------------------------------------\u001b[0m",
      "\u001b[1;31mNameError\u001b[0m                                 Traceback (most recent call last)",
      "\u001b[1;32m<ipython-input-26-a83f78326f71>\u001b[0m in \u001b[0;36m<module>\u001b[1;34m\u001b[0m\n\u001b[1;32m----> 1\u001b[1;33m \u001b[0msnvalues\u001b[0m\u001b[1;33m.\u001b[0m\u001b[0mindex\u001b[0m\u001b[1;33m,\u001b[0m \u001b[0mvaluess\u001b[0m\u001b[1;33m.\u001b[0m\u001b[0mbarplot\u001b[0m\u001b[1;33m(\u001b[0m\u001b[1;33m)\u001b[0m\u001b[1;33m\u001b[0m\u001b[1;33m\u001b[0m\u001b[0m\n\u001b[0m",
      "\u001b[1;31mNameError\u001b[0m: name 'snvalues' is not defined"
     ]
    }
   ],
   "source": [
    "snvalues.index, valuess.barplot()"
   ]
  },
  {
   "cell_type": "markdown",
   "metadata": {
    "id": "UxGSi51_FKw7"
   },
   "source": [
    "Plotting Topics with most number of data"
   ]
  },
  {
   "cell_type": "code",
   "execution_count": 27,
   "metadata": {
    "id": "5cL96yLUFKw8",
    "outputId": "a729c57f-55a2-4751-8572-947d22c36750"
   },
   "outputs": [
    {
     "data": {
      "text/plain": [
       "<matplotlib.axes._subplots.AxesSubplot at 0x287f4c8f208>"
      ]
     },
     "execution_count": 27,
     "metadata": {},
     "output_type": "execute_result"
    },
    {
     "data": {
      "image/png": "[encoded data removed]",
      "text/plain": [
       "<Figure size 1080x720 with 1 Axes>"
      ]
     },
     "metadata": {},
     "output_type": "display_data"
    }
   ],
   "source": [
    "sns.set(rc={'figure.figsize':(15,10)})\n",
    "\n",
    "values = df['category'].value_counts()[\n",
    "    ['POLITICS', 'ENTERTAINMENT', 'TRAVEL', 'STYLE & BEAUTY', 'QUEER VOICES', 'DIVORCE','SCIENCE', 'MONEY', 'EDUCATION']\n",
    "]\n",
    "\n",
    "sns.barplot(values.index, values)"
   ]
  },
  {
   "cell_type": "markdown",
   "metadata": {
    "id": "MKMvJS_yFKw-"
   },
   "source": [
    "### Data Preprocessing"
   ]
  },
  {
   "cell_type": "code",
   "execution_count": 28,
   "metadata": {
    "colab": {
     "base_uri": "https://localhost:8080/",
     "height": 212
    },
    "executionInfo": {
     "elapsed": 79,
     "status": "error",
     "timestamp": 1625076330542,
     "user": {
      "displayName": "Bhavesh Rathi",
      "photoUrl": "",
      "userId": "14059420974334740227"
     },
     "user_tz": -330
    },
    "id": "XRlcP6k3FKw-",
    "outputId": "f501ca81-ec44-4a48-c0a3-17b5448d3b38"
   },
   "outputs": [
    {
     "data": {
      "text/plain": [
       "{'CRIME': 0,\n",
       " 'ENTERTAINMENT': 1,\n",
       " 'WORLD NEWS': 2,\n",
       " 'IMPACT': 3,\n",
       " 'POLITICS': 4,\n",
       " 'WEIRD NEWS': 5,\n",
       " 'BLACK VOICES': 6,\n",
       " 'WOMEN': 7,\n",
       " 'COMEDY': 8,\n",
       " 'QUEER VOICES': 9,\n",
       " 'SPORTS': 10,\n",
       " 'BUSINESS': 11,\n",
       " 'TRAVEL': 12,\n",
       " 'MEDIA': 13,\n",
       " 'TECH': 14,\n",
       " 'RELIGION': 15,\n",
       " 'SCIENCE': 16,\n",
       " 'LATINO VOICES': 17,\n",
       " 'EDUCATION': 18,\n",
       " 'COLLEGE': 19,\n",
       " 'PARENTS': 20,\n",
       " 'ARTS & CULTURE': 21,\n",
       " 'STYLE': 22,\n",
       " 'GREEN': 23,\n",
       " 'TASTE': 24,\n",
       " 'HEALTHY LIVING': 25,\n",
       " 'THE WORLDPOST': 26,\n",
       " 'GOOD NEWS': 27,\n",
       " 'WORLDPOST': 28,\n",
       " 'FIFTY': 29,\n",
       " 'ARTS': 30,\n",
       " 'WELLNESS': 31,\n",
       " 'PARENTING': 32,\n",
       " 'HOME & LIVING': 33,\n",
       " 'STYLE & BEAUTY': 34,\n",
       " 'DIVORCE': 35,\n",
       " 'WEDDINGS': 36,\n",
       " 'FOOD & DRINK': 37,\n",
       " 'MONEY': 38,\n",
       " 'ENVIRONMENT': 39,\n",
       " 'CULTURE & ARTS': 40}"
      ]
     },
     "execution_count": 28,
     "metadata": {},
     "output_type": "execute_result"
    }
   ],
   "source": [
    "#printing all unique Categories\n",
    "mapping = dict(enumerate(df['category'].unique()))\n",
    "LABEL_MAPPING = {value: key for key, value in mapping.items()}\n",
    "LABEL_MAPPING"
   ]
  },
  {
   "cell_type": "code",
   "execution_count": 29,
   "metadata": {
    "executionInfo": {
     "elapsed": 38,
     "status": "aborted",
     "timestamp": 1625076330510,
     "user": {
      "displayName": "Bhavesh Rathi",
      "photoUrl": "",
      "userId": "14059420974334740227"
     },
     "user_tz": -330
    },
    "id": "7FDsnypnFKxA"
   },
   "outputs": [
    {
     "name": "stdout",
     "output_type": "stream",
     "text": [
      "number of classes: 41\n"
     ]
    }
   ],
   "source": [
    "# number of total categories\n",
    "\n",
    "NUM_CLASSES = len(LABEL_MAPPING) \n",
    "print(\"number of classes:\", NUM_CLASSES)"
   ]
  },
  {
   "cell_type": "code",
   "execution_count": 30,
   "metadata": {
    "executionInfo": {
     "elapsed": 40,
     "status": "aborted",
     "timestamp": 1625076330514,
     "user": {
      "displayName": "Bhavesh Rathi",
      "photoUrl": "",
      "userId": "14059420974334740227"
     },
     "user_tz": -330
    },
    "id": "UcXdAGKHFKxB"
   },
   "outputs": [],
   "source": [
    "# combining similar categories \n",
    "\n",
    "df.category[df.category=='THE WORLDPOST'] = 'WORLDPOST'\n",
    "df.category[df.category=='GREEN'] = 'ENVIRONMENT'\n",
    "df.category[df.category=='CULTURE & ARTS'] = 'ARTS'\n",
    "df.category[df.category=='COMEDY'] = 'ENTERTAINMENT'\n",
    "df.category[df.category=='STYLE'] = 'STYLE & BEAUTY'\n",
    "df.category[df.category=='ARTS & CULTURE'] = 'ARTS'\n",
    "df.category[df.category=='COLLEGE'] = 'EDUCATION'\n",
    "df.category[df.category=='SCIENCE'] = 'TECH'\n",
    "df.category[df.category=='WEDDINGS'] = 'GOOD NEWS'\n",
    "df.category[df.category=='TASTE'] = 'FOOD & DRINK'\n",
    "df.category[(df.category=='PARENTING') | (df.category=='FIFTY')] = 'PARENTS'\n",
    "df.category[df.category=='WORLD NEWS'] = 'WORLDPOST'"
   ]
  },
  {
   "cell_type": "code",
   "execution_count": 31,
   "metadata": {
    "executionInfo": {
     "elapsed": 42,
     "status": "aborted",
     "timestamp": 1625076330517,
     "user": {
      "displayName": "Bhavesh Rathi",
      "photoUrl": "",
      "userId": "14059420974334740227"
     },
     "user_tz": -330
    },
    "id": "POaIHpsbFKxD"
   },
   "outputs": [
    {
     "data": {
      "text/plain": [
       "{'CRIME': 0,\n",
       " 'ENTERTAINMENT': 1,\n",
       " 'WORLDPOST': 2,\n",
       " 'IMPACT': 3,\n",
       " 'POLITICS': 4,\n",
       " 'WEIRD NEWS': 5,\n",
       " 'BLACK VOICES': 6,\n",
       " 'WOMEN': 7,\n",
       " 'QUEER VOICES': 8,\n",
       " 'SPORTS': 9,\n",
       " 'BUSINESS': 10,\n",
       " 'TRAVEL': 11,\n",
       " 'MEDIA': 12,\n",
       " 'TECH': 13,\n",
       " 'RELIGION': 14,\n",
       " 'LATINO VOICES': 15,\n",
       " 'EDUCATION': 16,\n",
       " 'PARENTS': 17,\n",
       " 'ARTS': 18,\n",
       " 'STYLE & BEAUTY': 19,\n",
       " 'ENVIRONMENT': 20,\n",
       " 'FOOD & DRINK': 21,\n",
       " 'HEALTHY LIVING': 22,\n",
       " 'GOOD NEWS': 23,\n",
       " 'WELLNESS': 24,\n",
       " 'HOME & LIVING': 25,\n",
       " 'DIVORCE': 26,\n",
       " 'MONEY': 27}"
      ]
     },
     "execution_count": 31,
     "metadata": {},
     "output_type": "execute_result"
    }
   ],
   "source": [
    "#again checking unique categories\n",
    "\n",
    "mapping = dict(enumerate(df['category'].unique()))\n",
    "LABEL_MAPPING = {value: key for key, value in mapping.items()}\n",
    "LABEL_MAPPING"
   ]
  },
  {
   "cell_type": "code",
   "execution_count": 32,
   "metadata": {
    "executionInfo": {
     "elapsed": 44,
     "status": "aborted",
     "timestamp": 1625076330520,
     "user": {
      "displayName": "Bhavesh Rathi",
      "photoUrl": "",
      "userId": "14059420974334740227"
     },
     "user_tz": -330
    },
    "id": "g-CebDb0FKxE"
   },
   "outputs": [
    {
     "name": "stdout",
     "output_type": "stream",
     "text": [
      "number of classes: 28\n"
     ]
    }
   ],
   "source": [
    "#count of unique categories\n",
    "\n",
    "NUM_CLASSES = len(LABEL_MAPPING)\n",
    "print(\"number of classes:\", NUM_CLASSES)"
   ]
  },
  {
   "cell_type": "code",
   "execution_count": 33,
   "metadata": {
    "executionInfo": {
     "elapsed": 45,
     "status": "aborted",
     "timestamp": 1625076330522,
     "user": {
      "displayName": "Bhavesh Rathi",
      "photoUrl": "",
      "userId": "14059420974334740227"
     },
     "user_tz": -330
    },
    "id": "cA25RgZJFKxF"
   },
   "outputs": [
    {
     "name": "stdout",
     "output_type": "stream",
     "text": [
      "\n",
      "Category count: 28\n",
      "POLITICS          32739\n",
      "ENTERTAINMENT     21233\n",
      "WELLNESS          17827\n",
      "PARENTS           14033\n",
      "STYLE & BEAUTY    11903\n",
      "TRAVEL             9887\n",
      "WORLDPOST          8420\n",
      "FOOD & DRINK       8322\n",
      "HEALTHY LIVING     6694\n",
      "QUEER VOICES       6314\n",
      "BUSINESS           5937\n",
      "GOOD NEWS          5049\n",
      "SPORTS             4884\n",
      "BLACK VOICES       4528\n",
      "TECH               4260\n",
      "HOME & LIVING      4195\n",
      "ENVIRONMENT        3945\n",
      "ARTS               3878\n",
      "WOMEN              3490\n",
      "IMPACT             3459\n",
      "DIVORCE            3426\n",
      "CRIME              3405\n",
      "MEDIA              2815\n",
      "WEIRD NEWS         2670\n",
      "RELIGION           2556\n",
      "EDUCATION          2148\n",
      "MONEY              1707\n",
      "LATINO VOICES      1129\n",
      "Name: category, dtype: int64\n",
      "\n"
     ]
    }
   ],
   "source": [
    "#printing number of rows for every unique category\n",
    "\n",
    "print(f\"\"\"\n",
    "Category count: {len(df['category'].value_counts())}\n",
    "{df['category'].value_counts()}\n",
    "\"\"\")"
   ]
  },
  {
   "cell_type": "markdown",
   "metadata": {
    "id": "YXWr6xBLFKxG"
   },
   "source": [
    "Again plotting Bar plots for 28 unique categories"
   ]
  },
  {
   "cell_type": "code",
   "execution_count": 34,
   "metadata": {
    "executionInfo": {
     "elapsed": 46,
     "status": "aborted",
     "timestamp": 1625076330524,
     "user": {
      "displayName": "Bhavesh Rathi",
      "photoUrl": "",
      "userId": "14059420974334740227"
     },
     "user_tz": -330
    },
    "id": "YQu41FTWFKxH"
   },
   "outputs": [
    {
     "data": {
      "text/plain": [
       "<matplotlib.axes._subplots.AxesSubplot at 0x2878029e5f8>"
      ]
     },
     "execution_count": 34,
     "metadata": {},
     "output_type": "execute_result"
    },
    {
     "data": {
      "image/png": "[encoded data removed]",
      "text/plain": [
       "<Figure size 1008x288 with 1 Axes>"
      ]
     },
     "metadata": {},
     "output_type": "display_data"
    }
   ],
   "source": [
    "df.category.value_counts().plot.bar(figsize=(14, 4))"
   ]
  },
  {
   "cell_type": "code",
   "execution_count": 35,
   "metadata": {
    "executionInfo": {
     "elapsed": 47,
     "status": "aborted",
     "timestamp": 1625076330526,
     "user": {
      "displayName": "Bhavesh Rathi",
      "photoUrl": "",
      "userId": "14059420974334740227"
     },
     "user_tz": -330
    },
    "id": "R1unQPbmFKxI"
   },
   "outputs": [
    {
     "data": {
      "text/html": [
       "<div>\n",
       "<style scoped>\n",
       "    .dataframe tbody tr th:only-of-type {\n",
       "        vertical-align: middle;\n",
       "    }\n",
       "\n",
       "    .dataframe tbody tr th {\n",
       "        vertical-align: top;\n",
       "    }\n",
       "\n",
       "    .dataframe thead th {\n",
       "        text-align: right;\n",
       "    }\n",
       "</style>\n",
       "<table border=\"1\" class=\"dataframe\">\n",
       "  <thead>\n",
       "    <tr style=\"text-align: right;\">\n",
       "      <th></th>\n",
       "      <th>category</th>\n",
       "      <th>headline</th>\n",
       "      <th>short_description</th>\n",
       "    </tr>\n",
       "  </thead>\n",
       "  <tbody>\n",
       "    <tr>\n",
       "      <th>0</th>\n",
       "      <td>CRIME</td>\n",
       "      <td>There Were 2 Mass Shootings In Texas Last Week...</td>\n",
       "      <td>She left her husband. He killed their children...</td>\n",
       "    </tr>\n",
       "    <tr>\n",
       "      <th>1</th>\n",
       "      <td>ENTERTAINMENT</td>\n",
       "      <td>Will Smith Joins Diplo And Nicky Jam For The 2...</td>\n",
       "      <td>Of course it has a song.</td>\n",
       "    </tr>\n",
       "    <tr>\n",
       "      <th>2</th>\n",
       "      <td>ENTERTAINMENT</td>\n",
       "      <td>Hugh Grant Marries For The First Time At Age 57</td>\n",
       "      <td>The actor and his longtime girlfriend Anna Ebe...</td>\n",
       "    </tr>\n",
       "    <tr>\n",
       "      <th>3</th>\n",
       "      <td>ENTERTAINMENT</td>\n",
       "      <td>Jim Carrey Blasts 'Castrato' Adam Schiff And D...</td>\n",
       "      <td>The actor gives Dems an ass-kicking for not fi...</td>\n",
       "    </tr>\n",
       "    <tr>\n",
       "      <th>4</th>\n",
       "      <td>ENTERTAINMENT</td>\n",
       "      <td>Julianna Margulies Uses Donald Trump Poop Bags...</td>\n",
       "      <td>The \"Dietland\" actress said using the bags is ...</td>\n",
       "    </tr>\n",
       "  </tbody>\n",
       "</table>\n",
       "</div>"
      ],
      "text/plain": [
       "        category                                           headline  \\\n",
       "0          CRIME  There Were 2 Mass Shootings In Texas Last Week...   \n",
       "1  ENTERTAINMENT  Will Smith Joins Diplo And Nicky Jam For The 2...   \n",
       "2  ENTERTAINMENT    Hugh Grant Marries For The First Time At Age 57   \n",
       "3  ENTERTAINMENT  Jim Carrey Blasts 'Castrato' Adam Schiff And D...   \n",
       "4  ENTERTAINMENT  Julianna Margulies Uses Donald Trump Poop Bags...   \n",
       "\n",
       "                                   short_description  \n",
       "0  She left her husband. He killed their children...  \n",
       "1                           Of course it has a song.  \n",
       "2  The actor and his longtime girlfriend Anna Ebe...  \n",
       "3  The actor gives Dems an ass-kicking for not fi...  \n",
       "4  The \"Dietland\" actress said using the bags is ...  "
      ]
     },
     "execution_count": 35,
     "metadata": {},
     "output_type": "execute_result"
    }
   ],
   "source": [
    "df.head()"
   ]
  },
  {
   "cell_type": "code",
   "execution_count": 36,
   "metadata": {
    "executionInfo": {
     "elapsed": 48,
     "status": "aborted",
     "timestamp": 1625076330528,
     "user": {
      "displayName": "Bhavesh Rathi",
      "photoUrl": "",
      "userId": "14059420974334740227"
     },
     "user_tz": -330
    },
    "id": "IqFZMKOsFKxJ"
   },
   "outputs": [],
   "source": [
    "#merging headline and short_description \n",
    "df['description'] = df.headline + ' ' + df.short_description"
   ]
  },
  {
   "cell_type": "code",
   "execution_count": 37,
   "metadata": {
    "executionInfo": {
     "elapsed": 50,
     "status": "aborted",
     "timestamp": 1625076330531,
     "user": {
      "displayName": "Bhavesh Rathi",
      "photoUrl": "",
      "userId": "14059420974334740227"
     },
     "user_tz": -330
    },
    "id": "ye9SgdiFFKxK"
   },
   "outputs": [
    {
     "data": {
      "text/html": [
       "<div>\n",
       "<style scoped>\n",
       "    .dataframe tbody tr th:only-of-type {\n",
       "        vertical-align: middle;\n",
       "    }\n",
       "\n",
       "    .dataframe tbody tr th {\n",
       "        vertical-align: top;\n",
       "    }\n",
       "\n",
       "    .dataframe thead th {\n",
       "        text-align: right;\n",
       "    }\n",
       "</style>\n",
       "<table border=\"1\" class=\"dataframe\">\n",
       "  <thead>\n",
       "    <tr style=\"text-align: right;\">\n",
       "      <th></th>\n",
       "      <th>category</th>\n",
       "      <th>headline</th>\n",
       "      <th>short_description</th>\n",
       "      <th>description</th>\n",
       "    </tr>\n",
       "  </thead>\n",
       "  <tbody>\n",
       "    <tr>\n",
       "      <th>0</th>\n",
       "      <td>CRIME</td>\n",
       "      <td>There Were 2 Mass Shootings In Texas Last Week...</td>\n",
       "      <td>She left her husband. He killed their children...</td>\n",
       "      <td>There Were 2 Mass Shootings In Texas Last Week...</td>\n",
       "    </tr>\n",
       "    <tr>\n",
       "      <th>1</th>\n",
       "      <td>ENTERTAINMENT</td>\n",
       "      <td>Will Smith Joins Diplo And Nicky Jam For The 2...</td>\n",
       "      <td>Of course it has a song.</td>\n",
       "      <td>Will Smith Joins Diplo And Nicky Jam For The 2...</td>\n",
       "    </tr>\n",
       "    <tr>\n",
       "      <th>2</th>\n",
       "      <td>ENTERTAINMENT</td>\n",
       "      <td>Hugh Grant Marries For The First Time At Age 57</td>\n",
       "      <td>The actor and his longtime girlfriend Anna Ebe...</td>\n",
       "      <td>Hugh Grant Marries For The First Time At Age 5...</td>\n",
       "    </tr>\n",
       "    <tr>\n",
       "      <th>3</th>\n",
       "      <td>ENTERTAINMENT</td>\n",
       "      <td>Jim Carrey Blasts 'Castrato' Adam Schiff And D...</td>\n",
       "      <td>The actor gives Dems an ass-kicking for not fi...</td>\n",
       "      <td>Jim Carrey Blasts 'Castrato' Adam Schiff And D...</td>\n",
       "    </tr>\n",
       "    <tr>\n",
       "      <th>4</th>\n",
       "      <td>ENTERTAINMENT</td>\n",
       "      <td>Julianna Margulies Uses Donald Trump Poop Bags...</td>\n",
       "      <td>The \"Dietland\" actress said using the bags is ...</td>\n",
       "      <td>Julianna Margulies Uses Donald Trump Poop Bags...</td>\n",
       "    </tr>\n",
       "  </tbody>\n",
       "</table>\n",
       "</div>"
      ],
      "text/plain": [
       "        category                                           headline  \\\n",
       "0          CRIME  There Were 2 Mass Shootings In Texas Last Week...   \n",
       "1  ENTERTAINMENT  Will Smith Joins Diplo And Nicky Jam For The 2...   \n",
       "2  ENTERTAINMENT    Hugh Grant Marries For The First Time At Age 57   \n",
       "3  ENTERTAINMENT  Jim Carrey Blasts 'Castrato' Adam Schiff And D...   \n",
       "4  ENTERTAINMENT  Julianna Margulies Uses Donald Trump Poop Bags...   \n",
       "\n",
       "                                   short_description  \\\n",
       "0  She left her husband. He killed their children...   \n",
       "1                           Of course it has a song.   \n",
       "2  The actor and his longtime girlfriend Anna Ebe...   \n",
       "3  The actor gives Dems an ass-kicking for not fi...   \n",
       "4  The \"Dietland\" actress said using the bags is ...   \n",
       "\n",
       "                                         description  \n",
       "0  There Were 2 Mass Shootings In Texas Last Week...  \n",
       "1  Will Smith Joins Diplo And Nicky Jam For The 2...  \n",
       "2  Hugh Grant Marries For The First Time At Age 5...  \n",
       "3  Jim Carrey Blasts 'Castrato' Adam Schiff And D...  \n",
       "4  Julianna Margulies Uses Donald Trump Poop Bags...  "
      ]
     },
     "execution_count": 37,
     "metadata": {},
     "output_type": "execute_result"
    }
   ],
   "source": [
    "df.head()"
   ]
  },
  {
   "cell_type": "code",
   "execution_count": 38,
   "metadata": {
    "executionInfo": {
     "elapsed": 52,
     "status": "aborted",
     "timestamp": 1625076330534,
     "user": {
      "displayName": "Bhavesh Rathi",
      "photoUrl": "",
      "userId": "14059420974334740227"
     },
     "user_tz": -330
    },
    "id": "_Ys0s64dFKxL"
   },
   "outputs": [],
   "source": [
    "#delting columns headline and short_description\n",
    "df.drop('headline', inplace=True, axis=1)"
   ]
  },
  {
   "cell_type": "code",
   "execution_count": 39,
   "metadata": {
    "executionInfo": {
     "elapsed": 56,
     "status": "aborted",
     "timestamp": 1625076330538,
     "user": {
      "displayName": "Bhavesh Rathi",
      "photoUrl": "",
      "userId": "14059420974334740227"
     },
     "user_tz": -330
    },
    "id": "0NUxhgXGFKxM"
   },
   "outputs": [],
   "source": [
    "df.drop('short_description', inplace=True, axis=1)"
   ]
  },
  {
   "cell_type": "code",
   "execution_count": 40,
   "metadata": {
    "executionInfo": {
     "elapsed": 57,
     "status": "aborted",
     "timestamp": 1625076330540,
     "user": {
      "displayName": "Bhavesh Rathi",
      "photoUrl": "",
      "userId": "14059420974334740227"
     },
     "user_tz": -330
    },
    "id": "H77bsGpjFKxM"
   },
   "outputs": [
    {
     "data": {
      "text/html": [
       "<div>\n",
       "<style scoped>\n",
       "    .dataframe tbody tr th:only-of-type {\n",
       "        vertical-align: middle;\n",
       "    }\n",
       "\n",
       "    .dataframe tbody tr th {\n",
       "        vertical-align: top;\n",
       "    }\n",
       "\n",
       "    .dataframe thead th {\n",
       "        text-align: right;\n",
       "    }\n",
       "</style>\n",
       "<table border=\"1\" class=\"dataframe\">\n",
       "  <thead>\n",
       "    <tr style=\"text-align: right;\">\n",
       "      <th></th>\n",
       "      <th>category</th>\n",
       "      <th>description</th>\n",
       "    </tr>\n",
       "  </thead>\n",
       "  <tbody>\n",
       "    <tr>\n",
       "      <th>0</th>\n",
       "      <td>CRIME</td>\n",
       "      <td>There Were 2 Mass Shootings In Texas Last Week...</td>\n",
       "    </tr>\n",
       "    <tr>\n",
       "      <th>1</th>\n",
       "      <td>ENTERTAINMENT</td>\n",
       "      <td>Will Smith Joins Diplo And Nicky Jam For The 2...</td>\n",
       "    </tr>\n",
       "    <tr>\n",
       "      <th>2</th>\n",
       "      <td>ENTERTAINMENT</td>\n",
       "      <td>Hugh Grant Marries For The First Time At Age 5...</td>\n",
       "    </tr>\n",
       "    <tr>\n",
       "      <th>3</th>\n",
       "      <td>ENTERTAINMENT</td>\n",
       "      <td>Jim Carrey Blasts 'Castrato' Adam Schiff And D...</td>\n",
       "    </tr>\n",
       "    <tr>\n",
       "      <th>4</th>\n",
       "      <td>ENTERTAINMENT</td>\n",
       "      <td>Julianna Margulies Uses Donald Trump Poop Bags...</td>\n",
       "    </tr>\n",
       "    <tr>\n",
       "      <th>5</th>\n",
       "      <td>ENTERTAINMENT</td>\n",
       "      <td>Morgan Freeman 'Devastated' That Sexual Harass...</td>\n",
       "    </tr>\n",
       "    <tr>\n",
       "      <th>6</th>\n",
       "      <td>ENTERTAINMENT</td>\n",
       "      <td>Donald Trump Is Lovin' New McDonald's Jingle I...</td>\n",
       "    </tr>\n",
       "    <tr>\n",
       "      <th>7</th>\n",
       "      <td>ENTERTAINMENT</td>\n",
       "      <td>What To Watch On Amazon Prime That’s New This ...</td>\n",
       "    </tr>\n",
       "    <tr>\n",
       "      <th>8</th>\n",
       "      <td>ENTERTAINMENT</td>\n",
       "      <td>Mike Myers Reveals He'd 'Like To' Do A Fourth ...</td>\n",
       "    </tr>\n",
       "    <tr>\n",
       "      <th>9</th>\n",
       "      <td>ENTERTAINMENT</td>\n",
       "      <td>What To Watch On Hulu That’s New This Week You...</td>\n",
       "    </tr>\n",
       "    <tr>\n",
       "      <th>10</th>\n",
       "      <td>ENTERTAINMENT</td>\n",
       "      <td>Justin Timberlake Visits Texas School Shooting...</td>\n",
       "    </tr>\n",
       "    <tr>\n",
       "      <th>11</th>\n",
       "      <td>WORLDPOST</td>\n",
       "      <td>South Korean President Meets North Korea's Kim...</td>\n",
       "    </tr>\n",
       "    <tr>\n",
       "      <th>12</th>\n",
       "      <td>IMPACT</td>\n",
       "      <td>With Its Way Of Life At Risk, This Remote Oyst...</td>\n",
       "    </tr>\n",
       "    <tr>\n",
       "      <th>13</th>\n",
       "      <td>POLITICS</td>\n",
       "      <td>Trump's Crackdown On Immigrant Parents Puts Mo...</td>\n",
       "    </tr>\n",
       "    <tr>\n",
       "      <th>14</th>\n",
       "      <td>POLITICS</td>\n",
       "      <td>'Trump's Son Should Be Concerned': FBI Obtaine...</td>\n",
       "    </tr>\n",
       "    <tr>\n",
       "      <th>15</th>\n",
       "      <td>POLITICS</td>\n",
       "      <td>Edward Snowden: There's No One Trump Loves Mor...</td>\n",
       "    </tr>\n",
       "    <tr>\n",
       "      <th>16</th>\n",
       "      <td>POLITICS</td>\n",
       "      <td>Booyah: Obama Photographer Hilariously Trolls ...</td>\n",
       "    </tr>\n",
       "    <tr>\n",
       "      <th>17</th>\n",
       "      <td>POLITICS</td>\n",
       "      <td>Ireland Votes To Repeal Abortion Amendment In ...</td>\n",
       "    </tr>\n",
       "    <tr>\n",
       "      <th>18</th>\n",
       "      <td>POLITICS</td>\n",
       "      <td>Ryan Zinke Looks To Reel Back Some Critics Wit...</td>\n",
       "    </tr>\n",
       "    <tr>\n",
       "      <th>19</th>\n",
       "      <td>POLITICS</td>\n",
       "      <td>Trump's Scottish Golf Resort Pays Women Signif...</td>\n",
       "    </tr>\n",
       "    <tr>\n",
       "      <th>20</th>\n",
       "      <td>WEIRD NEWS</td>\n",
       "      <td>Weird Father's Day Gifts Your Dad Doesn't Know...</td>\n",
       "    </tr>\n",
       "    <tr>\n",
       "      <th>21</th>\n",
       "      <td>ENTERTAINMENT</td>\n",
       "      <td>Twitter #PutStarWarsInOtherFilms And It Was Un...</td>\n",
       "    </tr>\n",
       "    <tr>\n",
       "      <th>22</th>\n",
       "      <td>WEIRD NEWS</td>\n",
       "      <td>Mystery 'Wolf-Like' Animal Reportedly Shot In ...</td>\n",
       "    </tr>\n",
       "    <tr>\n",
       "      <th>23</th>\n",
       "      <td>WORLDPOST</td>\n",
       "      <td>North Korea Still Open To Talks After Trump Ca...</td>\n",
       "    </tr>\n",
       "    <tr>\n",
       "      <th>24</th>\n",
       "      <td>WORLDPOST</td>\n",
       "      <td>2 Men Detonate Bomb Inside Indian Restaurant N...</td>\n",
       "    </tr>\n",
       "    <tr>\n",
       "      <th>25</th>\n",
       "      <td>WORLDPOST</td>\n",
       "      <td>Thousands Travel Home To Ireland To Vote On Ab...</td>\n",
       "    </tr>\n",
       "    <tr>\n",
       "      <th>26</th>\n",
       "      <td>WORLDPOST</td>\n",
       "      <td>Irish Voters Set To Liberalize Abortion Laws I...</td>\n",
       "    </tr>\n",
       "    <tr>\n",
       "      <th>27</th>\n",
       "      <td>BLACK VOICES</td>\n",
       "      <td>Warriors Coach Steve Kerr Calls NFL Ban On Pro...</td>\n",
       "    </tr>\n",
       "    <tr>\n",
       "      <th>28</th>\n",
       "      <td>BLACK VOICES</td>\n",
       "      <td>In Historic Victory, Barbados Elects First Fem...</td>\n",
       "    </tr>\n",
       "    <tr>\n",
       "      <th>29</th>\n",
       "      <td>BLACK VOICES</td>\n",
       "      <td>Police Killed At Least 378 Black Americans Fro...</td>\n",
       "    </tr>\n",
       "    <tr>\n",
       "      <th>...</th>\n",
       "      <td>...</td>\n",
       "      <td>...</td>\n",
       "    </tr>\n",
       "    <tr>\n",
       "      <th>200823</th>\n",
       "      <td>QUEER VOICES</td>\n",
       "      <td>Chris Gregoire, Washington State Governor, Dis...</td>\n",
       "    </tr>\n",
       "    <tr>\n",
       "      <th>200824</th>\n",
       "      <td>QUEER VOICES</td>\n",
       "      <td>Glenn Close On 'Albert Nobbs', Gender Bending ...</td>\n",
       "    </tr>\n",
       "    <tr>\n",
       "      <th>200825</th>\n",
       "      <td>IMPACT</td>\n",
       "      <td>Tinker and Change the World Tinkering -- that ...</td>\n",
       "    </tr>\n",
       "    <tr>\n",
       "      <th>200826</th>\n",
       "      <td>IMPACT</td>\n",
       "      <td>Pregnant and Displaced: Double the Danger It's...</td>\n",
       "    </tr>\n",
       "    <tr>\n",
       "      <th>200827</th>\n",
       "      <td>IMPACT</td>\n",
       "      <td>Tom Brady Helps Mentor, Tom Martinez, Find A K...</td>\n",
       "    </tr>\n",
       "    <tr>\n",
       "      <th>200828</th>\n",
       "      <td>ENVIRONMENT</td>\n",
       "      <td>Boxer Puppy And Cows Make Friends During Walk ...</td>\n",
       "    </tr>\n",
       "    <tr>\n",
       "      <th>200829</th>\n",
       "      <td>ENVIRONMENT</td>\n",
       "      <td>'Black Smoker' Vents: New Species Discovered N...</td>\n",
       "    </tr>\n",
       "    <tr>\n",
       "      <th>200830</th>\n",
       "      <td>ENVIRONMENT</td>\n",
       "      <td>Green Activists: 50 And Older If you look at s...</td>\n",
       "    </tr>\n",
       "    <tr>\n",
       "      <th>200831</th>\n",
       "      <td>ENVIRONMENT</td>\n",
       "      <td>Winter Weather Photo Contest: Submit Your Own ...</td>\n",
       "    </tr>\n",
       "    <tr>\n",
       "      <th>200832</th>\n",
       "      <td>ENVIRONMENT</td>\n",
       "      <td>Insects Top Newly Discovered Species List Spec...</td>\n",
       "    </tr>\n",
       "    <tr>\n",
       "      <th>200833</th>\n",
       "      <td>BUSINESS</td>\n",
       "      <td>Four More Bank Closures Mark the Week of Janua...</td>\n",
       "    </tr>\n",
       "    <tr>\n",
       "      <th>200834</th>\n",
       "      <td>BUSINESS</td>\n",
       "      <td>Everything You Need To Know About Overdraft Fe...</td>\n",
       "    </tr>\n",
       "    <tr>\n",
       "      <th>200835</th>\n",
       "      <td>BUSINESS</td>\n",
       "      <td>Walmart Waving Goodbye To Some Greeters After ...</td>\n",
       "    </tr>\n",
       "    <tr>\n",
       "      <th>200836</th>\n",
       "      <td>BUSINESS</td>\n",
       "      <td>At World Economic Forum, Fear of Global Contag...</td>\n",
       "    </tr>\n",
       "    <tr>\n",
       "      <th>200837</th>\n",
       "      <td>BUSINESS</td>\n",
       "      <td>Positive Customer Experience: What's the Retur...</td>\n",
       "    </tr>\n",
       "    <tr>\n",
       "      <th>200838</th>\n",
       "      <td>ENTERTAINMENT</td>\n",
       "      <td>Sundance, Ice-T, and Shades of the American Ra...</td>\n",
       "    </tr>\n",
       "    <tr>\n",
       "      <th>200839</th>\n",
       "      <td>ENTERTAINMENT</td>\n",
       "      <td>'Girl With the Dragon Tattoo' India Release Ca...</td>\n",
       "    </tr>\n",
       "    <tr>\n",
       "      <th>200840</th>\n",
       "      <td>ARTS</td>\n",
       "      <td>'Don't Think': A Look At The Chemical Brothers...</td>\n",
       "    </tr>\n",
       "    <tr>\n",
       "      <th>200841</th>\n",
       "      <td>ARTS</td>\n",
       "      <td>Matthew Marks Discusses His New LA Gallery Was...</td>\n",
       "    </tr>\n",
       "    <tr>\n",
       "      <th>200842</th>\n",
       "      <td>ARTS</td>\n",
       "      <td>Allard Van Hoorn's 'Urban Songline' Explores R...</td>\n",
       "    </tr>\n",
       "    <tr>\n",
       "      <th>200843</th>\n",
       "      <td>TECH</td>\n",
       "      <td>Good Games -- Is It possible? I don't think pe...</td>\n",
       "    </tr>\n",
       "    <tr>\n",
       "      <th>200844</th>\n",
       "      <td>TECH</td>\n",
       "      <td>Google+ Now Open for Teens With Some Safeguard...</td>\n",
       "    </tr>\n",
       "    <tr>\n",
       "      <th>200845</th>\n",
       "      <td>TECH</td>\n",
       "      <td>Web Wars These \"Web Wars\" threaten to rage on ...</td>\n",
       "    </tr>\n",
       "    <tr>\n",
       "      <th>200846</th>\n",
       "      <td>TECH</td>\n",
       "      <td>First White House Chief Technology Officer, An...</td>\n",
       "    </tr>\n",
       "    <tr>\n",
       "      <th>200847</th>\n",
       "      <td>TECH</td>\n",
       "      <td>Watch The Top 9 YouTube Videos Of The Week If ...</td>\n",
       "    </tr>\n",
       "    <tr>\n",
       "      <th>200848</th>\n",
       "      <td>TECH</td>\n",
       "      <td>RIM CEO Thorsten Heins' 'Significant' Plans Fo...</td>\n",
       "    </tr>\n",
       "    <tr>\n",
       "      <th>200849</th>\n",
       "      <td>SPORTS</td>\n",
       "      <td>Maria Sharapova Stunned By Victoria Azarenka I...</td>\n",
       "    </tr>\n",
       "    <tr>\n",
       "      <th>200850</th>\n",
       "      <td>SPORTS</td>\n",
       "      <td>Giants Over Patriots, Jets Over Colts Among  M...</td>\n",
       "    </tr>\n",
       "    <tr>\n",
       "      <th>200851</th>\n",
       "      <td>SPORTS</td>\n",
       "      <td>Aldon Smith Arrested: 49ers Linebacker Busted ...</td>\n",
       "    </tr>\n",
       "    <tr>\n",
       "      <th>200852</th>\n",
       "      <td>SPORTS</td>\n",
       "      <td>Dwight Howard Rips Teammates After Magic Loss ...</td>\n",
       "    </tr>\n",
       "  </tbody>\n",
       "</table>\n",
       "<p>200853 rows × 2 columns</p>\n",
       "</div>"
      ],
      "text/plain": [
       "             category                                        description\n",
       "0               CRIME  There Were 2 Mass Shootings In Texas Last Week...\n",
       "1       ENTERTAINMENT  Will Smith Joins Diplo And Nicky Jam For The 2...\n",
       "2       ENTERTAINMENT  Hugh Grant Marries For The First Time At Age 5...\n",
       "3       ENTERTAINMENT  Jim Carrey Blasts 'Castrato' Adam Schiff And D...\n",
       "4       ENTERTAINMENT  Julianna Margulies Uses Donald Trump Poop Bags...\n",
       "5       ENTERTAINMENT  Morgan Freeman 'Devastated' That Sexual Harass...\n",
       "6       ENTERTAINMENT  Donald Trump Is Lovin' New McDonald's Jingle I...\n",
       "7       ENTERTAINMENT  What To Watch On Amazon Prime That’s New This ...\n",
       "8       ENTERTAINMENT  Mike Myers Reveals He'd 'Like To' Do A Fourth ...\n",
       "9       ENTERTAINMENT  What To Watch On Hulu That’s New This Week You...\n",
       "10      ENTERTAINMENT  Justin Timberlake Visits Texas School Shooting...\n",
       "11          WORLDPOST  South Korean President Meets North Korea's Kim...\n",
       "12             IMPACT  With Its Way Of Life At Risk, This Remote Oyst...\n",
       "13           POLITICS  Trump's Crackdown On Immigrant Parents Puts Mo...\n",
       "14           POLITICS  'Trump's Son Should Be Concerned': FBI Obtaine...\n",
       "15           POLITICS  Edward Snowden: There's No One Trump Loves Mor...\n",
       "16           POLITICS  Booyah: Obama Photographer Hilariously Trolls ...\n",
       "17           POLITICS  Ireland Votes To Repeal Abortion Amendment In ...\n",
       "18           POLITICS  Ryan Zinke Looks To Reel Back Some Critics Wit...\n",
       "19           POLITICS  Trump's Scottish Golf Resort Pays Women Signif...\n",
       "20         WEIRD NEWS  Weird Father's Day Gifts Your Dad Doesn't Know...\n",
       "21      ENTERTAINMENT  Twitter #PutStarWarsInOtherFilms And It Was Un...\n",
       "22         WEIRD NEWS  Mystery 'Wolf-Like' Animal Reportedly Shot In ...\n",
       "23          WORLDPOST  North Korea Still Open To Talks After Trump Ca...\n",
       "24          WORLDPOST  2 Men Detonate Bomb Inside Indian Restaurant N...\n",
       "25          WORLDPOST  Thousands Travel Home To Ireland To Vote On Ab...\n",
       "26          WORLDPOST  Irish Voters Set To Liberalize Abortion Laws I...\n",
       "27       BLACK VOICES  Warriors Coach Steve Kerr Calls NFL Ban On Pro...\n",
       "28       BLACK VOICES  In Historic Victory, Barbados Elects First Fem...\n",
       "29       BLACK VOICES  Police Killed At Least 378 Black Americans Fro...\n",
       "...               ...                                                ...\n",
       "200823   QUEER VOICES  Chris Gregoire, Washington State Governor, Dis...\n",
       "200824   QUEER VOICES  Glenn Close On 'Albert Nobbs', Gender Bending ...\n",
       "200825         IMPACT  Tinker and Change the World Tinkering -- that ...\n",
       "200826         IMPACT  Pregnant and Displaced: Double the Danger It's...\n",
       "200827         IMPACT  Tom Brady Helps Mentor, Tom Martinez, Find A K...\n",
       "200828    ENVIRONMENT  Boxer Puppy And Cows Make Friends During Walk ...\n",
       "200829    ENVIRONMENT  'Black Smoker' Vents: New Species Discovered N...\n",
       "200830    ENVIRONMENT  Green Activists: 50 And Older If you look at s...\n",
       "200831    ENVIRONMENT  Winter Weather Photo Contest: Submit Your Own ...\n",
       "200832    ENVIRONMENT  Insects Top Newly Discovered Species List Spec...\n",
       "200833       BUSINESS  Four More Bank Closures Mark the Week of Janua...\n",
       "200834       BUSINESS  Everything You Need To Know About Overdraft Fe...\n",
       "200835       BUSINESS  Walmart Waving Goodbye To Some Greeters After ...\n",
       "200836       BUSINESS  At World Economic Forum, Fear of Global Contag...\n",
       "200837       BUSINESS  Positive Customer Experience: What's the Retur...\n",
       "200838  ENTERTAINMENT  Sundance, Ice-T, and Shades of the American Ra...\n",
       "200839  ENTERTAINMENT  'Girl With the Dragon Tattoo' India Release Ca...\n",
       "200840           ARTS  'Don't Think': A Look At The Chemical Brothers...\n",
       "200841           ARTS  Matthew Marks Discusses His New LA Gallery Was...\n",
       "200842           ARTS  Allard Van Hoorn's 'Urban Songline' Explores R...\n",
       "200843           TECH  Good Games -- Is It possible? I don't think pe...\n",
       "200844           TECH  Google+ Now Open for Teens With Some Safeguard...\n",
       "200845           TECH  Web Wars These \"Web Wars\" threaten to rage on ...\n",
       "200846           TECH  First White House Chief Technology Officer, An...\n",
       "200847           TECH  Watch The Top 9 YouTube Videos Of The Week If ...\n",
       "200848           TECH  RIM CEO Thorsten Heins' 'Significant' Plans Fo...\n",
       "200849         SPORTS  Maria Sharapova Stunned By Victoria Azarenka I...\n",
       "200850         SPORTS  Giants Over Patriots, Jets Over Colts Among  M...\n",
       "200851         SPORTS  Aldon Smith Arrested: 49ers Linebacker Busted ...\n",
       "200852         SPORTS  Dwight Howard Rips Teammates After Magic Loss ...\n",
       "\n",
       "[200853 rows x 2 columns]"
      ]
     },
     "execution_count": 40,
     "metadata": {},
     "output_type": "execute_result"
    }
   ],
   "source": [
    "df"
   ]
  },
  {
   "cell_type": "markdown",
   "metadata": {
    "id": "f0Dt4gi6FKxN"
   },
   "source": [
    "### Extracting keywords "
   ]
  },
  {
   "cell_type": "markdown",
   "metadata": {
    "id": "bv8nzrydFKxO"
   },
   "source": [
    "extracting keywords from discription column, for prediction of categories"
   ]
  },
  {
   "cell_type": "code",
   "execution_count": 41,
   "metadata": {
    "id": "FNM7PZKkFKxO"
   },
   "outputs": [],
   "source": [
    "#creating a new column\n",
    "import numpy as np\n",
    "df['keywords']=np.nan"
   ]
  },
  {
   "cell_type": "code",
   "execution_count": 42,
   "metadata": {
    "id": "Tr_1DzQJFKxP",
    "outputId": "fc70ebe3-5851-4d17-8d77-a5f53d6bee72"
   },
   "outputs": [
    {
     "data": {
      "text/html": [
       "<div>\n",
       "<style scoped>\n",
       "    .dataframe tbody tr th:only-of-type {\n",
       "        vertical-align: middle;\n",
       "    }\n",
       "\n",
       "    .dataframe tbody tr th {\n",
       "        vertical-align: top;\n",
       "    }\n",
       "\n",
       "    .dataframe thead th {\n",
       "        text-align: right;\n",
       "    }\n",
       "</style>\n",
       "<table border=\"1\" class=\"dataframe\">\n",
       "  <thead>\n",
       "    <tr style=\"text-align: right;\">\n",
       "      <th></th>\n",
       "      <th>category</th>\n",
       "      <th>description</th>\n",
       "      <th>keywords</th>\n",
       "    </tr>\n",
       "  </thead>\n",
       "  <tbody>\n",
       "    <tr>\n",
       "      <th>0</th>\n",
       "      <td>CRIME</td>\n",
       "      <td>There Were 2 Mass Shootings In Texas Last Week...</td>\n",
       "      <td>NaN</td>\n",
       "    </tr>\n",
       "    <tr>\n",
       "      <th>1</th>\n",
       "      <td>ENTERTAINMENT</td>\n",
       "      <td>Will Smith Joins Diplo And Nicky Jam For The 2...</td>\n",
       "      <td>NaN</td>\n",
       "    </tr>\n",
       "    <tr>\n",
       "      <th>2</th>\n",
       "      <td>ENTERTAINMENT</td>\n",
       "      <td>Hugh Grant Marries For The First Time At Age 5...</td>\n",
       "      <td>NaN</td>\n",
       "    </tr>\n",
       "    <tr>\n",
       "      <th>3</th>\n",
       "      <td>ENTERTAINMENT</td>\n",
       "      <td>Jim Carrey Blasts 'Castrato' Adam Schiff And D...</td>\n",
       "      <td>NaN</td>\n",
       "    </tr>\n",
       "    <tr>\n",
       "      <th>4</th>\n",
       "      <td>ENTERTAINMENT</td>\n",
       "      <td>Julianna Margulies Uses Donald Trump Poop Bags...</td>\n",
       "      <td>NaN</td>\n",
       "    </tr>\n",
       "  </tbody>\n",
       "</table>\n",
       "</div>"
      ],
      "text/plain": [
       "        category                                        description  keywords\n",
       "0          CRIME  There Were 2 Mass Shootings In Texas Last Week...       NaN\n",
       "1  ENTERTAINMENT  Will Smith Joins Diplo And Nicky Jam For The 2...       NaN\n",
       "2  ENTERTAINMENT  Hugh Grant Marries For The First Time At Age 5...       NaN\n",
       "3  ENTERTAINMENT  Jim Carrey Blasts 'Castrato' Adam Schiff And D...       NaN\n",
       "4  ENTERTAINMENT  Julianna Margulies Uses Donald Trump Poop Bags...       NaN"
      ]
     },
     "execution_count": 42,
     "metadata": {},
     "output_type": "execute_result"
    }
   ],
   "source": [
    "df.head()"
   ]
  },
  {
   "cell_type": "code",
   "execution_count": 43,
   "metadata": {
    "id": "6SG7AHkTFKxQ"
   },
   "outputs": [],
   "source": [
    "import re"
   ]
  },
  {
   "cell_type": "code",
   "execution_count": 44,
   "metadata": {
    "id": "R1EWCUdbFKxQ"
   },
   "outputs": [],
   "source": [
    "#converting all letters to lowercase\n",
    "df['description'] = df['description'].str.lower()\n"
   ]
  },
  {
   "cell_type": "code",
   "execution_count": 45,
   "metadata": {
    "id": "nVdTAGLkFKxR",
    "outputId": "d1650063-b479-466c-bfe8-91d4a32b3dc7"
   },
   "outputs": [
    {
     "data": {
      "text/html": [
       "<div>\n",
       "<style scoped>\n",
       "    .dataframe tbody tr th:only-of-type {\n",
       "        vertical-align: middle;\n",
       "    }\n",
       "\n",
       "    .dataframe tbody tr th {\n",
       "        vertical-align: top;\n",
       "    }\n",
       "\n",
       "    .dataframe thead th {\n",
       "        text-align: right;\n",
       "    }\n",
       "</style>\n",
       "<table border=\"1\" class=\"dataframe\">\n",
       "  <thead>\n",
       "    <tr style=\"text-align: right;\">\n",
       "      <th></th>\n",
       "      <th>category</th>\n",
       "      <th>description</th>\n",
       "      <th>keywords</th>\n",
       "    </tr>\n",
       "  </thead>\n",
       "  <tbody>\n",
       "    <tr>\n",
       "      <th>0</th>\n",
       "      <td>CRIME</td>\n",
       "      <td>there were 2 mass shootings in texas last week...</td>\n",
       "      <td>NaN</td>\n",
       "    </tr>\n",
       "    <tr>\n",
       "      <th>1</th>\n",
       "      <td>ENTERTAINMENT</td>\n",
       "      <td>will smith joins diplo and nicky jam for the 2...</td>\n",
       "      <td>NaN</td>\n",
       "    </tr>\n",
       "    <tr>\n",
       "      <th>2</th>\n",
       "      <td>ENTERTAINMENT</td>\n",
       "      <td>hugh grant marries for the first time at age 5...</td>\n",
       "      <td>NaN</td>\n",
       "    </tr>\n",
       "    <tr>\n",
       "      <th>3</th>\n",
       "      <td>ENTERTAINMENT</td>\n",
       "      <td>jim carrey blasts 'castrato' adam schiff and d...</td>\n",
       "      <td>NaN</td>\n",
       "    </tr>\n",
       "    <tr>\n",
       "      <th>4</th>\n",
       "      <td>ENTERTAINMENT</td>\n",
       "      <td>julianna margulies uses donald trump poop bags...</td>\n",
       "      <td>NaN</td>\n",
       "    </tr>\n",
       "  </tbody>\n",
       "</table>\n",
       "</div>"
      ],
      "text/plain": [
       "        category                                        description  keywords\n",
       "0          CRIME  there were 2 mass shootings in texas last week...       NaN\n",
       "1  ENTERTAINMENT  will smith joins diplo and nicky jam for the 2...       NaN\n",
       "2  ENTERTAINMENT  hugh grant marries for the first time at age 5...       NaN\n",
       "3  ENTERTAINMENT  jim carrey blasts 'castrato' adam schiff and d...       NaN\n",
       "4  ENTERTAINMENT  julianna margulies uses donald trump poop bags...       NaN"
      ]
     },
     "execution_count": 45,
     "metadata": {},
     "output_type": "execute_result"
    }
   ],
   "source": [
    "df.head()"
   ]
  },
  {
   "cell_type": "code",
   "execution_count": 46,
   "metadata": {
    "id": "xJMWsaGZFKxS"
   },
   "outputs": [],
   "source": [
    "df['category']= df['category'].str.lower()"
   ]
  },
  {
   "cell_type": "code",
   "execution_count": 47,
   "metadata": {
    "id": "3JE5ORGTFKxS"
   },
   "outputs": [
    {
     "ename": "ModuleNotFoundError",
     "evalue": "No module named 'spacy'",
     "output_type": "error",
     "traceback": [
      "\u001b[1;31m---------------------------------------------------------------------------\u001b[0m",
      "\u001b[1;31mModuleNotFoundError\u001b[0m                       Traceback (most recent call last)",
      "\u001b[1;32m<ipython-input-47-10498be84e1c>\u001b[0m in \u001b[0;36m<module>\u001b[1;34m\u001b[0m\n\u001b[0;32m      1\u001b[0m \u001b[1;31m#importing spacy for keywords extraction\u001b[0m\u001b[1;33m\u001b[0m\u001b[1;33m\u001b[0m\u001b[1;33m\u001b[0m\u001b[0m\n\u001b[0;32m      2\u001b[0m \u001b[1;33m\u001b[0m\u001b[0m\n\u001b[1;32m----> 3\u001b[1;33m \u001b[1;32mimport\u001b[0m \u001b[0mspacy\u001b[0m\u001b[1;33m\u001b[0m\u001b[1;33m\u001b[0m\u001b[0m\n\u001b[0m",
      "\u001b[1;31mModuleNotFoundError\u001b[0m: No module named 'spacy'"
     ]
    }
   ],
   "source": [
    "#importing spacy for keywords extraction\n",
    "\n",
    "import spacy"
   ]
  },
  {
   "cell_type": "code",
   "execution_count": 48,
   "metadata": {
    "id": "p62-Gf9cFKxT"
   },
   "outputs": [
    {
     "ename": "NameError",
     "evalue": "name 'spacy' is not defined",
     "output_type": "error",
     "traceback": [
      "\u001b[1;31m---------------------------------------------------------------------------\u001b[0m",
      "\u001b[1;31mNameError\u001b[0m                                 Traceback (most recent call last)",
      "\u001b[1;32m<ipython-input-48-2db885533c8f>\u001b[0m in \u001b[0;36m<module>\u001b[1;34m\u001b[0m\n\u001b[0;32m      1\u001b[0m \u001b[1;31m#load spacy data for keywords\u001b[0m\u001b[1;33m\u001b[0m\u001b[1;33m\u001b[0m\u001b[1;33m\u001b[0m\u001b[0m\n\u001b[1;32m----> 2\u001b[1;33m \u001b[0mnlp\u001b[0m \u001b[1;33m=\u001b[0m \u001b[0mspacy\u001b[0m\u001b[1;33m.\u001b[0m\u001b[0mload\u001b[0m\u001b[1;33m(\u001b[0m\u001b[1;34m\"en_core_sci_lg\"\u001b[0m\u001b[1;33m)\u001b[0m\u001b[1;33m\u001b[0m\u001b[1;33m\u001b[0m\u001b[0m\n\u001b[0m",
      "\u001b[1;31mNameError\u001b[0m: name 'spacy' is not defined"
     ]
    }
   ],
   "source": [
    "#load spacy data for keywords\n",
    "nlp = spacy.load(\"en_core_sci_lg\")"
   ]
  },
  {
   "cell_type": "code",
   "execution_count": null,
   "metadata": {
    "id": "QMNp_mRlFKxT"
   },
   "outputs": [],
   "source": [
    "b=df['description']\n",
    "c=df['keywords']"
   ]
  },
  {
   "cell_type": "code",
   "execution_count": null,
   "metadata": {
    "id": "RIQlzlswFKxU",
    "outputId": "565f6f50-2aff-48a3-83c2-31c2197e28f1"
   },
   "outputs": [
    {
     "name": "stderr",
     "output_type": "stream",
     "text": [
      "<timed exec>:5: SettingWithCopyWarning: \n",
      "A value is trying to be set on a copy of a slice from a DataFrame\n",
      "\n",
      "See the caveats in the documentation: https://pandas.pydata.org/pandas-docs/stable/user_guide/indexing.html#returning-a-view-versus-a-copy\n",
      "F:\\python\\lib\\site-packages\\pandas\\core\\indexing.py:670: SettingWithCopyWarning: \n",
      "A value is trying to be set on a copy of a slice from a DataFrame\n",
      "\n",
      "See the caveats in the documentation: https://pandas.pydata.org/pandas-docs/stable/user_guide/indexing.html#returning-a-view-versus-a-copy\n",
      "  iloc._setitem_with_indexer(indexer, value)\n",
      "F:\\python\\lib\\site-packages\\numpy\\core\\_asarray.py:83: VisibleDeprecationWarning: Creating an ndarray from ragged nested sequences (which is a list-or-tuple of lists-or-tuples-or ndarrays with different lengths or shapes) is deprecated. If you meant to do this, you must specify 'dtype=object' when creating the ndarray\n",
      "  return array(a, dtype, copy=False, order=order)\n",
      "F:\\python\\lib\\site-packages\\pandas\\core\\internals\\blocks.py:832: VisibleDeprecationWarning: Creating an ndarray from ragged nested sequences (which is a list-or-tuple of lists-or-tuples-or ndarrays with different lengths or shapes) is deprecated. If you meant to do this, you must specify 'dtype=object' when creating the ndarray\n",
      "  dtype, _ = maybe_promote(np.array(value).dtype)\n",
      "F:\\python\\lib\\site-packages\\pandas\\core\\internals\\blocks.py:849: VisibleDeprecationWarning: Creating an ndarray from ragged nested sequences (which is a list-or-tuple of lists-or-tuples-or ndarrays with different lengths or shapes) is deprecated. If you meant to do this, you must specify 'dtype=object' when creating the ndarray\n",
      "  arr_value = np.array(value)\n"
     ]
    },
    {
     "name": "stdout",
     "output_type": "stream",
     "text": [
      "Wall time: 3h 22min 29s\n"
     ]
    }
   ],
   "source": [
    "%%time  #to check time taken by code\n",
    "for i in range(len(df)):\n",
    "    try:\n",
    "        text=b[i]\n",
    "    \n",
    "        c[i]=(nlp(text)).ents\n",
    "    except TypeError:\n",
    "        pass"
   ]
  },
  {
   "cell_type": "code",
   "execution_count": null,
   "metadata": {
    "id": "zrHkUn0sFKxV",
    "outputId": "d82854b3-d9e5-447b-c17f-317926462ea8"
   },
   "outputs": [
    {
     "data": {
      "text/html": [
       "<div>\n",
       "<style scoped>\n",
       "    .dataframe tbody tr th:only-of-type {\n",
       "        vertical-align: middle;\n",
       "    }\n",
       "\n",
       "    .dataframe tbody tr th {\n",
       "        vertical-align: top;\n",
       "    }\n",
       "\n",
       "    .dataframe thead th {\n",
       "        text-align: right;\n",
       "    }\n",
       "</style>\n",
       "<table border=\"1\" class=\"dataframe\">\n",
       "  <thead>\n",
       "    <tr style=\"text-align: right;\">\n",
       "      <th></th>\n",
       "      <th>category</th>\n",
       "      <th>description</th>\n",
       "      <th>keywords</th>\n",
       "    </tr>\n",
       "  </thead>\n",
       "  <tbody>\n",
       "    <tr>\n",
       "      <th>0</th>\n",
       "      <td>crime</td>\n",
       "      <td>there were 2 mass shootings in texas last week...</td>\n",
       "      <td>((mass, shootings), (texas), (week), (left), (...</td>\n",
       "    </tr>\n",
       "    <tr>\n",
       "      <th>1</th>\n",
       "      <td>entertainment</td>\n",
       "      <td>will smith joins diplo and nicky jam for the 2...</td>\n",
       "      <td>((diplo), (nicky, jam), (world, cup, 's), (off...</td>\n",
       "    </tr>\n",
       "    <tr>\n",
       "      <th>2</th>\n",
       "      <td>entertainment</td>\n",
       "      <td>hugh grant marries for the first time at age 5...</td>\n",
       "      <td>((age), (actor), (longtime, girlfriend, anna, ...</td>\n",
       "    </tr>\n",
       "    <tr>\n",
       "      <th>3</th>\n",
       "      <td>entertainment</td>\n",
       "      <td>jim carrey blasts 'castrato' adam schiff and d...</td>\n",
       "      <td>((jim, carrey, blasts), (democrats), (artwork)...</td>\n",
       "    </tr>\n",
       "    <tr>\n",
       "      <th>4</th>\n",
       "      <td>entertainment</td>\n",
       "      <td>julianna margulies uses donald trump poop bags...</td>\n",
       "      <td>((julianna), (margulies), (dog), (actress), (b...</td>\n",
       "    </tr>\n",
       "  </tbody>\n",
       "</table>\n",
       "</div>"
      ],
      "text/plain": [
       "        category                                        description  \\\n",
       "0          crime  there were 2 mass shootings in texas last week...   \n",
       "1  entertainment  will smith joins diplo and nicky jam for the 2...   \n",
       "2  entertainment  hugh grant marries for the first time at age 5...   \n",
       "3  entertainment  jim carrey blasts 'castrato' adam schiff and d...   \n",
       "4  entertainment  julianna margulies uses donald trump poop bags...   \n",
       "\n",
       "                                            keywords  \n",
       "0  ((mass, shootings), (texas), (week), (left), (...  \n",
       "1  ((diplo), (nicky, jam), (world, cup, 's), (off...  \n",
       "2  ((age), (actor), (longtime, girlfriend, anna, ...  \n",
       "3  ((jim, carrey, blasts), (democrats), (artwork)...  \n",
       "4  ((julianna), (margulies), (dog), (actress), (b...  "
      ]
     },
     "execution_count": 39,
     "metadata": {
      "tags": []
     },
     "output_type": "execute_result"
    }
   ],
   "source": [
    "df.head()"
   ]
  },
  {
   "cell_type": "code",
   "execution_count": null,
   "metadata": {
    "id": "yGoRPW8iFKxV",
    "outputId": "db504a09-6aed-4c43-fa31-2bc8dbb2ef07"
   },
   "outputs": [
    {
     "data": {
      "text/html": [
       "<div>\n",
       "<style scoped>\n",
       "    .dataframe tbody tr th:only-of-type {\n",
       "        vertical-align: middle;\n",
       "    }\n",
       "\n",
       "    .dataframe tbody tr th {\n",
       "        vertical-align: top;\n",
       "    }\n",
       "\n",
       "    .dataframe thead th {\n",
       "        text-align: right;\n",
       "    }\n",
       "</style>\n",
       "<table border=\"1\" class=\"dataframe\">\n",
       "  <thead>\n",
       "    <tr style=\"text-align: right;\">\n",
       "      <th></th>\n",
       "      <th>category</th>\n",
       "      <th>description</th>\n",
       "      <th>keywords</th>\n",
       "    </tr>\n",
       "  </thead>\n",
       "  <tbody>\n",
       "    <tr>\n",
       "      <th>200848</th>\n",
       "      <td>tech</td>\n",
       "      <td>rim ceo thorsten heins' 'significant' plans fo...</td>\n",
       "      <td>((rim), (ceo, thorsten, heins, ', ', significa...</td>\n",
       "    </tr>\n",
       "    <tr>\n",
       "      <th>200849</th>\n",
       "      <td>sports</td>\n",
       "      <td>maria sharapova stunned by victoria azarenka i...</td>\n",
       "      <td>((maria, sharapova), (stunned), (victoria, aza...</td>\n",
       "    </tr>\n",
       "    <tr>\n",
       "      <th>200850</th>\n",
       "      <td>sports</td>\n",
       "      <td>giants over patriots, jets over colts among  m...</td>\n",
       "      <td>((giants), (patriots), (jets), (colts), (super...</td>\n",
       "    </tr>\n",
       "    <tr>\n",
       "      <th>200851</th>\n",
       "      <td>sports</td>\n",
       "      <td>aldon smith arrested: 49ers linebacker busted ...</td>\n",
       "      <td>((aldon), (arrested), (linebacker, busted, for...</td>\n",
       "    </tr>\n",
       "    <tr>\n",
       "      <th>200852</th>\n",
       "      <td>sports</td>\n",
       "      <td>dwight howard rips teammates after magic loss ...</td>\n",
       "      <td>((dwight, howard), (rips, teammates), (magic, ...</td>\n",
       "    </tr>\n",
       "  </tbody>\n",
       "</table>\n",
       "</div>"
      ],
      "text/plain": [
       "       category                                        description  \\\n",
       "200848     tech  rim ceo thorsten heins' 'significant' plans fo...   \n",
       "200849   sports  maria sharapova stunned by victoria azarenka i...   \n",
       "200850   sports  giants over patriots, jets over colts among  m...   \n",
       "200851   sports  aldon smith arrested: 49ers linebacker busted ...   \n",
       "200852   sports  dwight howard rips teammates after magic loss ...   \n",
       "\n",
       "                                                 keywords  \n",
       "200848  ((rim), (ceo, thorsten, heins, ', ', significa...  \n",
       "200849  ((maria, sharapova), (stunned), (victoria, aza...  \n",
       "200850  ((giants), (patriots), (jets), (colts), (super...  \n",
       "200851  ((aldon), (arrested), (linebacker, busted, for...  \n",
       "200852  ((dwight, howard), (rips, teammates), (magic, ...  "
      ]
     },
     "execution_count": 40,
     "metadata": {
      "tags": []
     },
     "output_type": "execute_result"
    }
   ],
   "source": [
    "df.tail()"
   ]
  },
  {
   "cell_type": "markdown",
   "metadata": {
    "id": "QCl81SsRFKxW"
   },
   "source": [
    "now keywords are added to our dataframe, and then for future use convert this DataFrame to csv file"
   ]
  },
  {
   "cell_type": "code",
   "execution_count": null,
   "metadata": {
    "id": "bk4jFea5FKxX"
   },
   "outputs": [],
   "source": [
    "df.to_csv('final_data.csv') #converting df to csv file"
   ]
  },
  {
   "cell_type": "code",
   "execution_count": null,
   "metadata": {
    "id": "RPT0-6WJFKxX"
   },
   "outputs": [],
   "source": []
  }
 ],
 "metadata": {
  "colab": {
   "name": "Data1.ipynb",
   "provenance": []
  },
  "kernelspec": {
   "display_name": "Python 3",
   "language": "python",
   "name": "python3"
  },
  "language_info": {
   "codemirror_mode": {
    "name": "ipython",
    "version": 3
   },
   "file_extension": ".py",
   "mimetype": "text/x-python",
   "name": "python",
   "nbconvert_exporter": "python",
   "pygments_lexer": "ipython3",
   "version": "3.7.3"
  }
 },
 "nbformat": 4,
 "nbformat_minor": 1
}
