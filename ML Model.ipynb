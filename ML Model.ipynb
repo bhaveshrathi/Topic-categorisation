{
 "cells": [
  {
   "cell_type": "code",
   "execution_count": null,
   "metadata": {
    "id": "9Jdwdy-PEnBj"
   },
   "outputs": [],
   "source": [
    "#data reading library\n",
    "import pandas as pd\n",
    "\n",
    "\n",
    "#libraries for encoding / vectorizing\n",
    "from sklearn.preprocessing import LabelEncoder\n",
    "from sklearn.feature_extraction.text import TfidfVectorizer\n",
    "from sklearn.preprocessing import LabelEncoder\n",
    "\n",
    "#train test split\n",
    "from sklearn.model_selection import train_test_split\n",
    "\n",
    "#Ml model\n",
    "from sklearn.naive_bayes import MultinomialNB\n",
    "\n",
    "#checking accuracy\n",
    "from sklearn.metrics import accuracy_score\n",
    "from sklearn.metrics import confusion_matrix\n",
    "from sklearn.metrics import classification_report"
   ]
  },
  {
   "cell_type": "code",
   "execution_count": null,
   "metadata": {
    "id": "RsZDdRKSEnBu",
    "outputId": "b6d5f975-1f77-4ab6-b067-4ca232a0e9ae"
   },
   "outputs": [
    {
     "data": {
      "application/javascript": [
       "\n",
       "        if (window._pyforest_update_imports_cell) { window._pyforest_update_imports_cell('import pandas as pd'); }\n",
       "    "
      ],
      "text/plain": [
       "<IPython.core.display.Javascript object>"
      ]
     },
     "metadata": {
      "tags": []
     },
     "output_type": "display_data"
    }
   ],
   "source": [
    "#importing dataset\n",
    "df=pd.read_csv('ML_data.csv')"
   ]
  },
  {
   "cell_type": "code",
   "execution_count": null,
   "metadata": {
    "id": "bd6E74H9EnBy",
    "outputId": "6207ba74-c4e1-48b2-f540-7d949d28d47a"
   },
   "outputs": [
    {
     "data": {
      "text/html": [
       "<div>\n",
       "<style scoped>\n",
       "    .dataframe tbody tr th:only-of-type {\n",
       "        vertical-align: middle;\n",
       "    }\n",
       "\n",
       "    .dataframe tbody tr th {\n",
       "        vertical-align: top;\n",
       "    }\n",
       "\n",
       "    .dataframe thead th {\n",
       "        text-align: right;\n",
       "    }\n",
       "</style>\n",
       "<table border=\"1\" class=\"dataframe\">\n",
       "  <thead>\n",
       "    <tr style=\"text-align: right;\">\n",
       "      <th></th>\n",
       "      <th>Unnamed: 0</th>\n",
       "      <th>index</th>\n",
       "      <th>category</th>\n",
       "      <th>description</th>\n",
       "      <th>keywords</th>\n",
       "      <th>plot</th>\n",
       "    </tr>\n",
       "  </thead>\n",
       "  <tbody>\n",
       "    <tr>\n",
       "      <th>0</th>\n",
       "      <td>0</td>\n",
       "      <td>36956</td>\n",
       "      <td>politics</td>\n",
       "      <td>number of sanctuary congregations doubles sinc...</td>\n",
       "      <td>(sanctuary, congregations, doubles, ’s electio...</td>\n",
       "      <td>sanctuary congregations doubles s election mo...</td>\n",
       "    </tr>\n",
       "    <tr>\n",
       "      <th>1</th>\n",
       "      <td>1</td>\n",
       "      <td>40229</td>\n",
       "      <td>politics</td>\n",
       "      <td>trump and russia: will anything be done? it is...</td>\n",
       "      <td>(russia, apparent, russia's, election, stories...</td>\n",
       "      <td>russia apparent russia s election stories att...</td>\n",
       "    </tr>\n",
       "    <tr>\n",
       "      <th>2</th>\n",
       "      <td>2</td>\n",
       "      <td>85246</td>\n",
       "      <td>entertainment</td>\n",
       "      <td>kylie jenner dons a bra top &amp; sheer skirt to '...</td>\n",
       "      <td>(kylie jenner, skirt, paper towns', screening,...</td>\n",
       "      <td>kylie jenner skirt paper towns screening invi...</td>\n",
       "    </tr>\n",
       "    <tr>\n",
       "      <th>3</th>\n",
       "      <td>3</td>\n",
       "      <td>122674</td>\n",
       "      <td>art/culture</td>\n",
       "      <td>street photography in stockholm (pt. 2) i want...</td>\n",
       "      <td>(street photography, quenches, authenticity, p...</td>\n",
       "      <td>street photography quenches authenticity pers...</td>\n",
       "    </tr>\n",
       "    <tr>\n",
       "      <th>4</th>\n",
       "      <td>4</td>\n",
       "      <td>180230</td>\n",
       "      <td>travel</td>\n",
       "      <td>the difference between inner and outer mongoli...</td>\n",
       "      <td>(inner, outer mongolia, photos, flight, boston...</td>\n",
       "      <td>inner outer mongolia photos flight boston cap...</td>\n",
       "    </tr>\n",
       "  </tbody>\n",
       "</table>\n",
       "</div>"
      ],
      "text/plain": [
       "   Unnamed: 0   index       category  \\\n",
       "0           0   36956       politics   \n",
       "1           1   40229       politics   \n",
       "2           2   85246  entertainment   \n",
       "3           3  122674    art/culture   \n",
       "4           4  180230         travel   \n",
       "\n",
       "                                         description  \\\n",
       "0  number of sanctuary congregations doubles sinc...   \n",
       "1  trump and russia: will anything be done? it is...   \n",
       "2  kylie jenner dons a bra top & sheer skirt to '...   \n",
       "3  street photography in stockholm (pt. 2) i want...   \n",
       "4  the difference between inner and outer mongoli...   \n",
       "\n",
       "                                            keywords  \\\n",
       "0  (sanctuary, congregations, doubles, ’s electio...   \n",
       "1  (russia, apparent, russia's, election, stories...   \n",
       "2  (kylie jenner, skirt, paper towns', screening,...   \n",
       "3  (street photography, quenches, authenticity, p...   \n",
       "4  (inner, outer mongolia, photos, flight, boston...   \n",
       "\n",
       "                                                plot  \n",
       "0   sanctuary congregations doubles s election mo...  \n",
       "1   russia apparent russia s election stories att...  \n",
       "2   kylie jenner skirt paper towns screening invi...  \n",
       "3   street photography quenches authenticity pers...  \n",
       "4   inner outer mongolia photos flight boston cap...  "
      ]
     },
     "execution_count": 3,
     "metadata": {
      "tags": []
     },
     "output_type": "execute_result"
    }
   ],
   "source": [
    "df.head()"
   ]
  },
  {
   "cell_type": "code",
   "execution_count": null,
   "metadata": {
    "id": "phgTIUICEnB0"
   },
   "outputs": [],
   "source": [
    "#deleting unwanted rows\n",
    "df.drop(['Unnamed: 0','index','description','keywords'],axis=1, inplace=True)"
   ]
  },
  {
   "cell_type": "code",
   "execution_count": null,
   "metadata": {
    "id": "oK7K3vxcEnB2",
    "outputId": "d428f73e-5bd8-4b45-c355-43abefc18b76"
   },
   "outputs": [
    {
     "data": {
      "text/html": [
       "<div>\n",
       "<style scoped>\n",
       "    .dataframe tbody tr th:only-of-type {\n",
       "        vertical-align: middle;\n",
       "    }\n",
       "\n",
       "    .dataframe tbody tr th {\n",
       "        vertical-align: top;\n",
       "    }\n",
       "\n",
       "    .dataframe thead th {\n",
       "        text-align: right;\n",
       "    }\n",
       "</style>\n",
       "<table border=\"1\" class=\"dataframe\">\n",
       "  <thead>\n",
       "    <tr style=\"text-align: right;\">\n",
       "      <th></th>\n",
       "      <th>category</th>\n",
       "      <th>plot</th>\n",
       "    </tr>\n",
       "  </thead>\n",
       "  <tbody>\n",
       "    <tr>\n",
       "      <th>0</th>\n",
       "      <td>politics</td>\n",
       "      <td>sanctuary congregations doubles s election mo...</td>\n",
       "    </tr>\n",
       "    <tr>\n",
       "      <th>1</th>\n",
       "      <td>politics</td>\n",
       "      <td>russia apparent russia s election stories att...</td>\n",
       "    </tr>\n",
       "    <tr>\n",
       "      <th>2</th>\n",
       "      <td>entertainment</td>\n",
       "      <td>kylie jenner skirt paper towns screening invi...</td>\n",
       "    </tr>\n",
       "    <tr>\n",
       "      <th>3</th>\n",
       "      <td>art/culture</td>\n",
       "      <td>street photography quenches authenticity pers...</td>\n",
       "    </tr>\n",
       "    <tr>\n",
       "      <th>4</th>\n",
       "      <td>travel</td>\n",
       "      <td>inner outer mongolia photos flight boston cap...</td>\n",
       "    </tr>\n",
       "  </tbody>\n",
       "</table>\n",
       "</div>"
      ],
      "text/plain": [
       "        category                                               plot\n",
       "0       politics   sanctuary congregations doubles s election mo...\n",
       "1       politics   russia apparent russia s election stories att...\n",
       "2  entertainment   kylie jenner skirt paper towns screening invi...\n",
       "3    art/culture   street photography quenches authenticity pers...\n",
       "4         travel   inner outer mongolia photos flight boston cap..."
      ]
     },
     "execution_count": 5,
     "metadata": {
      "tags": []
     },
     "output_type": "execute_result"
    }
   ],
   "source": [
    "df.head()"
   ]
  },
  {
   "cell_type": "markdown",
   "metadata": {
    "id": "UScUUopYEnB3"
   },
   "source": [
    "### Encoding category column"
   ]
  },
  {
   "cell_type": "code",
   "execution_count": null,
   "metadata": {
    "id": "ZCm4ni_5EnB4"
   },
   "outputs": [],
   "source": [
    "le = LabelEncoder()\n",
    "  \n",
    "df['encoded_category']= le.fit_transform(df['category'])\n"
   ]
  },
  {
   "cell_type": "code",
   "execution_count": null,
   "metadata": {
    "id": "sb4IBlCJEnB7",
    "outputId": "55965399-c3fb-4073-bfac-d856e7947849"
   },
   "outputs": [
    {
     "data": {
      "text/html": [
       "<div>\n",
       "<style scoped>\n",
       "    .dataframe tbody tr th:only-of-type {\n",
       "        vertical-align: middle;\n",
       "    }\n",
       "\n",
       "    .dataframe tbody tr th {\n",
       "        vertical-align: top;\n",
       "    }\n",
       "\n",
       "    .dataframe thead th {\n",
       "        text-align: right;\n",
       "    }\n",
       "</style>\n",
       "<table border=\"1\" class=\"dataframe\">\n",
       "  <thead>\n",
       "    <tr style=\"text-align: right;\">\n",
       "      <th></th>\n",
       "      <th>category</th>\n",
       "      <th>plot</th>\n",
       "      <th>encoded_category</th>\n",
       "    </tr>\n",
       "  </thead>\n",
       "  <tbody>\n",
       "    <tr>\n",
       "      <th>0</th>\n",
       "      <td>politics</td>\n",
       "      <td>sanctuary congregations doubles s election mo...</td>\n",
       "      <td>8</td>\n",
       "    </tr>\n",
       "    <tr>\n",
       "      <th>1</th>\n",
       "      <td>politics</td>\n",
       "      <td>russia apparent russia s election stories att...</td>\n",
       "      <td>8</td>\n",
       "    </tr>\n",
       "    <tr>\n",
       "      <th>2</th>\n",
       "      <td>entertainment</td>\n",
       "      <td>kylie jenner skirt paper towns screening invi...</td>\n",
       "      <td>3</td>\n",
       "    </tr>\n",
       "    <tr>\n",
       "      <th>3</th>\n",
       "      <td>art/culture</td>\n",
       "      <td>street photography quenches authenticity pers...</td>\n",
       "      <td>0</td>\n",
       "    </tr>\n",
       "    <tr>\n",
       "      <th>4</th>\n",
       "      <td>travel</td>\n",
       "      <td>inner outer mongolia photos flight boston cap...</td>\n",
       "      <td>10</td>\n",
       "    </tr>\n",
       "  </tbody>\n",
       "</table>\n",
       "</div>"
      ],
      "text/plain": [
       "        category                                               plot  \\\n",
       "0       politics   sanctuary congregations doubles s election mo...   \n",
       "1       politics   russia apparent russia s election stories att...   \n",
       "2  entertainment   kylie jenner skirt paper towns screening invi...   \n",
       "3    art/culture   street photography quenches authenticity pers...   \n",
       "4         travel   inner outer mongolia photos flight boston cap...   \n",
       "\n",
       "   encoded_category  \n",
       "0                 8  \n",
       "1                 8  \n",
       "2                 3  \n",
       "3                 0  \n",
       "4                10  "
      ]
     },
     "execution_count": 7,
     "metadata": {
      "tags": []
     },
     "output_type": "execute_result"
    }
   ],
   "source": [
    "df.head()"
   ]
  },
  {
   "cell_type": "code",
   "execution_count": null,
   "metadata": {
    "id": "pDGbEw-BEnB_",
    "outputId": "edcd4888-d67d-4c73-bc67-e2d4435e2ecc"
   },
   "outputs": [
    {
     "name": "stdout",
     "output_type": "stream",
     "text": [
      "politics : 8\n",
      "entertainment : 3\n",
      "art/culture : 0\n",
      "travel : 10\n",
      "environment : 4\n",
      "sports : 9\n",
      "international : 6\n",
      "food & drink : 5\n",
      "business : 1\n",
      "lifestyle : 7\n",
      "education/Tech/science : 2\n"
     ]
    }
   ],
   "source": [
    "#printing Encoded values corresponding to categories\n",
    "\n",
    "a=df['category'].unique()\n",
    "b=df['category']\n",
    "c=df['encoded_category']\n",
    "list1=[]\n",
    "for i in a:\n",
    "    for j in range(len(b)):\n",
    "        if b[j]==i:\n",
    "            list1.append(j)\n",
    "            break\n",
    "\n",
    "\n",
    "for i in list1:\n",
    "    print(f\"{b[i]} : {c[i]}\")"
   ]
  },
  {
   "cell_type": "markdown",
   "metadata": {
    "id": "k99EDUvqEnCB"
   },
   "source": [
    "### Vectorizing plot column"
   ]
  },
  {
   "cell_type": "code",
   "execution_count": null,
   "metadata": {
    "id": "opo-JCjyEnCC"
   },
   "outputs": [],
   "source": [
    "tfidf = TfidfVectorizer()\n",
    "feature= tfidf.fit_transform(df['plot']).toarray()"
   ]
  },
  {
   "cell_type": "markdown",
   "metadata": {
    "id": "FJdbs6laEnCD"
   },
   "source": [
    "### Creating X ,y variables "
   ]
  },
  {
   "cell_type": "code",
   "execution_count": null,
   "metadata": {
    "id": "p9LfCV2AEnCD"
   },
   "outputs": [],
   "source": [
    "X=feature\n",
    "y=df['encoded_category']"
   ]
  },
  {
   "cell_type": "markdown",
   "metadata": {
    "id": "Lp70JauEEnCF"
   },
   "source": [
    "###  Train Test split"
   ]
  },
  {
   "cell_type": "code",
   "execution_count": null,
   "metadata": {
    "id": "K1q5dorWEnCF"
   },
   "outputs": [],
   "source": [
    "\n",
    "X_train, X_test, y_train, y_test = train_test_split(X, y,test_size=0.2)"
   ]
  },
  {
   "cell_type": "markdown",
   "metadata": {
    "id": "J6AvWafKEnCG"
   },
   "source": [
    "### Fitting Naive_Bayes"
   ]
  },
  {
   "cell_type": "code",
   "execution_count": null,
   "metadata": {
    "id": "GEZ69zxIEnCH",
    "outputId": "ebfb5adf-df1a-44e3-e8a0-adf11f44bbad"
   },
   "outputs": [
    {
     "data": {
      "text/plain": [
       "MultinomialNB()"
      ]
     },
     "execution_count": 12,
     "metadata": {
      "tags": []
     },
     "output_type": "execute_result"
    }
   ],
   "source": [
    "\n",
    "clf = MultinomialNB()\n",
    "clf.fit(X_train, y_train)"
   ]
  },
  {
   "cell_type": "markdown",
   "metadata": {
    "id": "WkkvmuK0EnCH"
   },
   "source": [
    "### Predict Values"
   ]
  },
  {
   "cell_type": "code",
   "execution_count": null,
   "metadata": {
    "id": "WnMSMjvjEnCI"
   },
   "outputs": [],
   "source": [
    "\n",
    "y_pred=clf.predict(X_test)"
   ]
  },
  {
   "cell_type": "markdown",
   "metadata": {
    "id": "T22BdsSWEnCI"
   },
   "source": [
    "### Calculating Model Accuracy"
   ]
  },
  {
   "cell_type": "code",
   "execution_count": null,
   "metadata": {
    "id": "RbZ2gw7JEnCJ",
    "outputId": "dc6961b2-f8f5-4d7b-cc11-471fd6ca5df3"
   },
   "outputs": [
    {
     "data": {
      "text/plain": [
       "0.7024838012958964"
      ]
     },
     "execution_count": 14,
     "metadata": {
      "tags": []
     },
     "output_type": "execute_result"
    }
   ],
   "source": [
    "#calculating accuracy\n",
    "\n",
    "accuracy_score(y_test,y_pred)"
   ]
  },
  {
   "cell_type": "code",
   "execution_count": null,
   "metadata": {
    "id": "CLqbE3IzEnCK",
    "outputId": "ef52a7ec-ad2c-4fc3-a12c-f8c0cf85f79f"
   },
   "outputs": [
    {
     "data": {
      "text/plain": [
       "array([[388,  18,  29,  50,  28,   6,  35,  23,  41,  15,  40],\n",
       "       [ 12, 459,  66,   7,  36,  12,  34,  21,  44,  16,  18],\n",
       "       [ 26,  52, 398,  18,  48,  14,  22,  23,  26,  14,  21],\n",
       "       [ 36,  13,  22, 430,  19,  14,  15,  51,  44,  24,  20],\n",
       "       [ 12,  16,  18,  10, 486,  14,  14,   9,  30,  11,  34],\n",
       "       [  5,  15,   8,  13,  15, 570,   3,  19,   1,   5,  26],\n",
       "       [ 17,  17,  21,   6,  37,   1, 518,   9,  22,   7,  17],\n",
       "       [ 20,  41,  25,  30,  26,  31,  10, 432,  19,  11,  19],\n",
       "       [ 19,  37,  18,  11,  23,   4,  68,   8, 444,   8,   4],\n",
       "       [ 11,   5,  12,  23,  11,   0,  11,   9,  19, 562,  12],\n",
       "       [ 20,  19,   8,   6,  24,  22,  24,  15,   5,  11, 517]],\n",
       "      dtype=int64)"
      ]
     },
     "execution_count": 15,
     "metadata": {
      "tags": []
     },
     "output_type": "execute_result"
    }
   ],
   "source": [
    "#creating confusion metrics\n",
    "\n",
    "confusion_matrix(y_test, y_pred)"
   ]
  },
  {
   "cell_type": "code",
   "execution_count": null,
   "metadata": {
    "id": "b0t5OWedEnCL",
    "outputId": "aa93cf0d-80e6-48d5-8ed0-883fe67fd6b6",
    "scrolled": true
   },
   "outputs": [
    {
     "name": "stdout",
     "output_type": "stream",
     "text": [
      "              precision    recall  f1-score   support\n",
      "\n",
      "           0       0.69      0.58      0.63       673\n",
      "           1       0.66      0.63      0.65       725\n",
      "           2       0.64      0.60      0.62       662\n",
      "           3       0.71      0.62      0.67       688\n",
      "           4       0.65      0.74      0.69       654\n",
      "           5       0.83      0.84      0.83       680\n",
      "           6       0.69      0.77      0.73       672\n",
      "           7       0.70      0.65      0.67       664\n",
      "           8       0.64      0.69      0.66       644\n",
      "           9       0.82      0.83      0.83       675\n",
      "          10       0.71      0.77      0.74       671\n",
      "\n",
      "    accuracy                           0.70      7408\n",
      "   macro avg       0.70      0.70      0.70      7408\n",
      "weighted avg       0.70      0.70      0.70      7408\n",
      "\n"
     ]
    }
   ],
   "source": [
    "#classification report\n",
    "print(classification_report(y_test,y_pred))"
   ]
  },
  {
   "cell_type": "code",
   "execution_count": null,
   "metadata": {
    "id": "ttGamqMNEnCO"
   },
   "outputs": [],
   "source": []
  }
 ],
 "metadata": {
  "colab": {
   "name": "ML Model.ipynb",
   "provenance": []
  },
  "kernelspec": {
   "display_name": "Python 3",
   "language": "python",
   "name": "python3"
  },
  "language_info": {
   "codemirror_mode": {
    "name": "ipython",
    "version": 3
   },
   "file_extension": ".py",
   "mimetype": "text/x-python",
   "name": "python",
   "nbconvert_exporter": "python",
   "pygments_lexer": "ipython3",
   "version": "3.7.3"
  }
 },
 "nbformat": 4,
 "nbformat_minor": 1
}
