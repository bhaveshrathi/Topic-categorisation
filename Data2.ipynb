{
 "cells": [
  {
   "cell_type": "markdown",
   "metadata": {},
   "source": [
    "# DataPreprocessing"
   ]
  },
  {
   "cell_type": "code",
   "execution_count": 1,
   "metadata": {},
   "outputs": [],
   "source": [
    "import pandas as pd\n",
    "import numpy as np"
   ]
  },
  {
   "cell_type": "code",
   "execution_count": 2,
   "metadata": {},
   "outputs": [],
   "source": [
    "df=pd.read_csv('final_data.csv')"
   ]
  },
  {
   "cell_type": "code",
   "execution_count": 3,
   "metadata": {},
   "outputs": [
    {
     "data": {
      "text/html": [
       "<div>\n",
       "<style scoped>\n",
       "    .dataframe tbody tr th:only-of-type {\n",
       "        vertical-align: middle;\n",
       "    }\n",
       "\n",
       "    .dataframe tbody tr th {\n",
       "        vertical-align: top;\n",
       "    }\n",
       "\n",
       "    .dataframe thead th {\n",
       "        text-align: right;\n",
       "    }\n",
       "</style>\n",
       "<table border=\"1\" class=\"dataframe\">\n",
       "  <thead>\n",
       "    <tr style=\"text-align: right;\">\n",
       "      <th></th>\n",
       "      <th>Unnamed: 0</th>\n",
       "      <th>category</th>\n",
       "      <th>description</th>\n",
       "      <th>keywords</th>\n",
       "    </tr>\n",
       "  </thead>\n",
       "  <tbody>\n",
       "    <tr>\n",
       "      <th>0</th>\n",
       "      <td>0</td>\n",
       "      <td>crime</td>\n",
       "      <td>there were 2 mass shootings in texas last week...</td>\n",
       "      <td>(mass shootings, texas, week, left, husband, k...</td>\n",
       "    </tr>\n",
       "    <tr>\n",
       "      <th>1</th>\n",
       "      <td>1</td>\n",
       "      <td>entertainment</td>\n",
       "      <td>will smith joins diplo and nicky jam for the 2...</td>\n",
       "      <td>(diplo, nicky jam, world cup's, official, song...</td>\n",
       "    </tr>\n",
       "    <tr>\n",
       "      <th>2</th>\n",
       "      <td>2</td>\n",
       "      <td>entertainment</td>\n",
       "      <td>hugh grant marries for the first time at age 5...</td>\n",
       "      <td>(age, actor, longtime girlfriend anna eberstei...</td>\n",
       "    </tr>\n",
       "    <tr>\n",
       "      <th>3</th>\n",
       "      <td>3</td>\n",
       "      <td>entertainment</td>\n",
       "      <td>jim carrey blasts 'castrato' adam schiff and d...</td>\n",
       "      <td>(jim carrey blasts, democrats, artwork, actor,...</td>\n",
       "    </tr>\n",
       "    <tr>\n",
       "      <th>4</th>\n",
       "      <td>4</td>\n",
       "      <td>entertainment</td>\n",
       "      <td>julianna margulies uses donald trump poop bags...</td>\n",
       "      <td>(julianna, margulies, dog, actress, bags, cath...</td>\n",
       "    </tr>\n",
       "  </tbody>\n",
       "</table>\n",
       "</div>"
      ],
      "text/plain": [
       "   Unnamed: 0       category  \\\n",
       "0           0          crime   \n",
       "1           1  entertainment   \n",
       "2           2  entertainment   \n",
       "3           3  entertainment   \n",
       "4           4  entertainment   \n",
       "\n",
       "                                         description  \\\n",
       "0  there were 2 mass shootings in texas last week...   \n",
       "1  will smith joins diplo and nicky jam for the 2...   \n",
       "2  hugh grant marries for the first time at age 5...   \n",
       "3  jim carrey blasts 'castrato' adam schiff and d...   \n",
       "4  julianna margulies uses donald trump poop bags...   \n",
       "\n",
       "                                            keywords  \n",
       "0  (mass shootings, texas, week, left, husband, k...  \n",
       "1  (diplo, nicky jam, world cup's, official, song...  \n",
       "2  (age, actor, longtime girlfriend anna eberstei...  \n",
       "3  (jim carrey blasts, democrats, artwork, actor,...  \n",
       "4  (julianna, margulies, dog, actress, bags, cath...  "
      ]
     },
     "execution_count": 3,
     "metadata": {},
     "output_type": "execute_result"
    }
   ],
   "source": [
    "df.head()"
   ]
  },
  {
   "cell_type": "code",
   "execution_count": 4,
   "metadata": {},
   "outputs": [
    {
     "data": {
      "text/plain": [
       "(200853, 4)"
      ]
     },
     "execution_count": 4,
     "metadata": {},
     "output_type": "execute_result"
    }
   ],
   "source": [
    "df.shape"
   ]
  },
  {
   "cell_type": "code",
   "execution_count": 5,
   "metadata": {},
   "outputs": [
    {
     "name": "stdout",
     "output_type": "stream",
     "text": [
      "\n",
      "Category count: 28\n",
      "politics          32739\n",
      "entertainment     21233\n",
      "wellness          17827\n",
      "parents           14033\n",
      "style & beauty    11903\n",
      "travel             9887\n",
      "worldpost          8420\n",
      "food & drink       8322\n",
      "healthy living     6694\n",
      "queer voices       6314\n",
      "business           5937\n",
      "good news          5049\n",
      "sports             4884\n",
      "black voices       4528\n",
      "tech               4260\n",
      "home & living      4195\n",
      "environment        3945\n",
      "arts               3878\n",
      "women              3490\n",
      "impact             3459\n",
      "divorce            3426\n",
      "crime              3405\n",
      "media              2815\n",
      "weird news         2670\n",
      "religion           2556\n",
      "education          2148\n",
      "money              1707\n",
      "latino voices      1129\n",
      "Name: category, dtype: int64\n",
      "\n"
     ]
    }
   ],
   "source": [
    "print(f\"\"\"\n",
    "Category count: {len(df['category'].value_counts())}\n",
    "{df['category'].value_counts()}\n",
    "\"\"\")"
   ]
  },
  {
   "cell_type": "code",
   "execution_count": 15,
   "metadata": {},
   "outputs": [],
   "source": [
    "l1 = df['category'].value_counts()"
   ]
  },
  {
   "cell_type": "code",
   "execution_count": 19,
   "metadata": {},
   "outputs": [
    {
     "data": {
      "text/plain": [
       "21233"
      ]
     },
     "execution_count": 19,
     "metadata": {},
     "output_type": "execute_result"
    }
   ],
   "source": [
    "l1[1]"
   ]
  },
  {
   "cell_type": "code",
   "execution_count": 23,
   "metadata": {},
   "outputs": [],
   "source": [
    "l2 = []\n",
    "for i in range(len((df['category'].value_counts()))):\n",
    "    l2.append(l1[i])"
   ]
  },
  {
   "cell_type": "code",
   "execution_count": 50,
   "metadata": {},
   "outputs": [
    {
     "data": {
      "image/png": "[encoded data removed]",
      "text/plain": [
       "<Figure size 432x288 with 1 Axes>"
      ]
     },
     "metadata": {},
     "output_type": "display_data"
    }
   ],
   "source": [
    "import matplotlib.pyplot as plt\n",
    "import numpy as np\n",
    "\n",
    "y = np.array(l2)\n",
    "mylabels = [\"politics\",\"entertainment\",\"wellness\",\"parents\",\"style & beauty\",\"travel\",\"worldpost\",\"food & drink\",\"healthy living\",\"queer voices\",\"business\",\"good news\",\"sports\",\"black voices\",\"tech\",\"home & living\",\"environment\",\"arts\",\"women\",\"impact\",\"divorce\",\"crime\",\"media\",\"weird news\",\"religion\",\"education\",\"money\",\"latino voices\"]\n",
    "#myexplode = [0.2, 0, 0, 0]\n",
    "\n",
    "plt.pie(y,labels = mylabels)\n",
    "plt.legend(loc = 'lower left', title = \"CATEGORIES : \")\n",
    "plt.show()"
   ]
  },
  {
   "cell_type": "code",
   "execution_count": 38,
   "metadata": {},
   "outputs": [],
   "source": [
    "len(l2)\n",
    "mylabels = [\"politics\" , \"entertainment\" , \"wellness\" , \"parents\" , \"style & beauty\" , \"travel\" , \"worldpost\" ,\"food & drink\",\"healthy living\",\"queer voices\",\"business\",\"good news\",\"sports\",\"black voices\",\"tech\",\"home & living\",\"environment\",\"arts\",\"women\",\"impact\",\"divorce\",\"crime\",\"media\",\"weird news\",\"religion\",\"education\",\"money\",\"latino voices\"]"
   ]
  },
  {
   "cell_type": "code",
   "execution_count": 6,
   "metadata": {},
   "outputs": [],
   "source": [
    "#deleting unwanted categories\n",
    "\n",
    "df.drop(df[df['category'] == 'impact'].index, inplace = True)\n",
    "df.drop(df[df['category'] == 'weird news'].index, inplace = True)\n",
    "df.drop(df[df['category'] == 'good news'].index, inplace = True)\n",
    "df.drop(df[df['category'] == 'wellness'].index, inplace = True)\n",
    "df.drop(df[df['category'] == 'parents'].index, inplace = True)\n",
    "df.drop(df[df['category'] == 'queer voices'].index, inplace = True)\n",
    "df.drop(df[df['category'] == 'media'].index, inplace = True)\n",
    "df.drop(df[df['category'] == 'latino voices'].index, inplace = True)\n",
    "df.drop(df[df['category'] == 'divorce'].index, inplace = True)\n",
    "df.drop(df[df['category'] == 'women'].index, inplace = True)\n",
    "df.drop(df[df['category'] == 'black voices'].index, inplace = True)\n",
    "df.drop(df[df['category'] == 'crime'].index, inplace = True)"
   ]
  },
  {
   "cell_type": "code",
   "execution_count": 7,
   "metadata": {},
   "outputs": [],
   "source": [
    "#merging more categories\n",
    "\n",
    "df.category[df.category=='style & beauty'] = 'lifestyle'\n",
    "df.category[df.category=='home & living'] = 'lifestyle'\n",
    "df.category[df.category=='healthy living'] = 'lifestyle'\n",
    "df.category[df.category=='money'] = 'business'\n",
    "df.category[df.category=='worldpost'] = 'international'\n",
    "df.category[df.category=='education'] = 'tech'\n",
    "df.category[df.category=='tech'] = 'education/Tech/science'\n",
    "df.category[df.category=='religion'] = 'arts'\n",
    "df.category[df.category=='arts'] = 'art/culture'\n"
   ]
  },
  {
   "cell_type": "code",
   "execution_count": 8,
   "metadata": {},
   "outputs": [
    {
     "name": "stdout",
     "output_type": "stream",
     "text": [
      "\n",
      "Category count: 11\n",
      "politics                  32739\n",
      "lifestyle                 22792\n",
      "entertainment             21233\n",
      "travel                     9887\n",
      "international              8420\n",
      "food & drink               8322\n",
      "business                   7644\n",
      "art/culture                6434\n",
      "education/Tech/science     6408\n",
      "sports                     4884\n",
      "environment                3945\n",
      "Name: category, dtype: int64\n",
      "\n"
     ]
    }
   ],
   "source": [
    "print(f\"\"\"\n",
    "Category count: {len(df['category'].value_counts())}\n",
    "{df['category'].value_counts()}\n",
    "\"\"\")"
   ]
  },
  {
   "cell_type": "code",
   "execution_count": 9,
   "metadata": {},
   "outputs": [],
   "source": [
    "#deleting rows with Null values\n",
    "df.dropna(inplace=True)"
   ]
  },
  {
   "cell_type": "code",
   "execution_count": 10,
   "metadata": {},
   "outputs": [],
   "source": [
    "#reseting index numbers\n",
    "df.reset_index(inplace=True)"
   ]
  },
  {
   "cell_type": "code",
   "execution_count": 11,
   "metadata": {},
   "outputs": [
    {
     "name": "stdout",
     "output_type": "stream",
     "text": [
      "\n",
      "Category count: 11\n",
      "politics                  29578\n",
      "lifestyle                 20661\n",
      "entertainment             17887\n",
      "travel                     9408\n",
      "food & drink               8157\n",
      "international              7081\n",
      "business                   6783\n",
      "education/Tech/science     5669\n",
      "art/culture                5078\n",
      "sports                     4221\n",
      "environment                3367\n",
      "Name: category, dtype: int64\n",
      "\n"
     ]
    }
   ],
   "source": [
    "#checking remaining categories\n",
    "\n",
    "mapping = dict(enumerate(df['category'].unique()))\n",
    "LABEL_MAPPING = {value: key for key, value in mapping.items()}\n",
    "NUM_CLASSES = len(LABEL_MAPPING)\n",
    "print(f\"\"\"\n",
    "Category count: {len(df['category'].value_counts())}\n",
    "{df['category'].value_counts()}\n",
    "\"\"\")"
   ]
  },
  {
   "cell_type": "markdown",
   "metadata": {},
   "source": [
    "Cleaning rows by removing extra characters from keywords column and adding clean data to plot column"
   ]
  },
  {
   "cell_type": "code",
   "execution_count": 12,
   "metadata": {},
   "outputs": [],
   "source": [
    "#creating column named plot\n",
    "\n",
    "df['plot']=np.nan"
   ]
  },
  {
   "cell_type": "code",
   "execution_count": 13,
   "metadata": {},
   "outputs": [],
   "source": [
    "a=df['keywords']\n",
    "b=df['plot']\n"
   ]
  },
  {
   "cell_type": "code",
   "execution_count": 14,
   "metadata": {},
   "outputs": [],
   "source": [
    "import re"
   ]
  },
  {
   "cell_type": "code",
   "execution_count": 15,
   "metadata": {},
   "outputs": [
    {
     "name": "stderr",
     "output_type": "stream",
     "text": [
      "<ipython-input-15-033ff009f3ac>:4: SettingWithCopyWarning: \n",
      "A value is trying to be set on a copy of a slice from a DataFrame\n",
      "\n",
      "See the caveats in the documentation: https://pandas.pydata.org/pandas-docs/stable/user_guide/indexing.html#returning-a-view-versus-a-copy\n",
      "  b[i]=re.sub('[^A-Za-z]+', ' ', a[i])\n",
      "C:\\Users\\HP\\anaconda3\\lib\\site-packages\\pandas\\core\\indexing.py:670: SettingWithCopyWarning: \n",
      "A value is trying to be set on a copy of a slice from a DataFrame\n",
      "\n",
      "See the caveats in the documentation: https://pandas.pydata.org/pandas-docs/stable/user_guide/indexing.html#returning-a-view-versus-a-copy\n",
      "  iloc._setitem_with_indexer(indexer, value)\n"
     ]
    }
   ],
   "source": [
    "#remove extra characters except alphabets\n",
    "for i in range(len(a)):\n",
    "    try:\n",
    "        b[i]=re.sub('[^A-Za-z]+', ' ', a[i])\n",
    "    except KeyError:\n",
    "        pass"
   ]
  },
  {
   "cell_type": "code",
   "execution_count": 16,
   "metadata": {},
   "outputs": [],
   "source": [
    "df.dropna(inplace=True)"
   ]
  },
  {
   "cell_type": "code",
   "execution_count": 17,
   "metadata": {},
   "outputs": [
    {
     "name": "stdout",
     "output_type": "stream",
     "text": [
      "\n",
      "Category count: 11\n",
      "politics                  29578\n",
      "lifestyle                 20661\n",
      "entertainment             17887\n",
      "travel                     9408\n",
      "food & drink               8157\n",
      "international              7081\n",
      "business                   6783\n",
      "education/Tech/science     5669\n",
      "art/culture                5078\n",
      "sports                     4221\n",
      "environment                3367\n",
      "Name: category, dtype: int64\n",
      "\n"
     ]
    }
   ],
   "source": [
    "#checking remaining categories\n",
    "\n",
    "mapping = dict(enumerate(df['category'].unique()))\n",
    "LABEL_MAPPING = {value: key for key, value in mapping.items()}\n",
    "NUM_CLASSES = len(LABEL_MAPPING)\n",
    "print(f\"\"\"\n",
    "Category count: {len(df['category'].value_counts())}\n",
    "{df['category'].value_counts()}\n",
    "\"\"\")"
   ]
  },
  {
   "cell_type": "markdown",
   "metadata": {},
   "source": [
    "getting equal rows for all categories for uniformityin data i.e. getting 3367 rows on each category"
   ]
  },
  {
   "cell_type": "code",
   "execution_count": 18,
   "metadata": {},
   "outputs": [
    {
     "data": {
      "text/html": [
       "<div>\n",
       "<style scoped>\n",
       "    .dataframe tbody tr th:only-of-type {\n",
       "        vertical-align: middle;\n",
       "    }\n",
       "\n",
       "    .dataframe tbody tr th {\n",
       "        vertical-align: top;\n",
       "    }\n",
       "\n",
       "    .dataframe thead th {\n",
       "        text-align: right;\n",
       "    }\n",
       "</style>\n",
       "<table border=\"1\" class=\"dataframe\">\n",
       "  <thead>\n",
       "    <tr style=\"text-align: right;\">\n",
       "      <th></th>\n",
       "      <th>index</th>\n",
       "      <th>category</th>\n",
       "      <th>description</th>\n",
       "      <th>keywords</th>\n",
       "      <th>plot</th>\n",
       "    </tr>\n",
       "  </thead>\n",
       "  <tbody>\n",
       "    <tr>\n",
       "      <th>0</th>\n",
       "      <td>36956</td>\n",
       "      <td>politics</td>\n",
       "      <td>number of sanctuary congregations doubles sinc...</td>\n",
       "      <td>(sanctuary, congregations, doubles, ’s electio...</td>\n",
       "      <td>sanctuary congregations doubles s election mo...</td>\n",
       "    </tr>\n",
       "    <tr>\n",
       "      <th>1</th>\n",
       "      <td>40229</td>\n",
       "      <td>politics</td>\n",
       "      <td>trump and russia: will anything be done? it is...</td>\n",
       "      <td>(russia, apparent, russia's, election, stories...</td>\n",
       "      <td>russia apparent russia s election stories att...</td>\n",
       "    </tr>\n",
       "    <tr>\n",
       "      <th>2</th>\n",
       "      <td>85246</td>\n",
       "      <td>entertainment</td>\n",
       "      <td>kylie jenner dons a bra top &amp; sheer skirt to '...</td>\n",
       "      <td>(kylie jenner, skirt, paper towns', screening,...</td>\n",
       "      <td>kylie jenner skirt paper towns screening invi...</td>\n",
       "    </tr>\n",
       "    <tr>\n",
       "      <th>3</th>\n",
       "      <td>122674</td>\n",
       "      <td>art/culture</td>\n",
       "      <td>street photography in stockholm (pt. 2) i want...</td>\n",
       "      <td>(street photography, quenches, authenticity, p...</td>\n",
       "      <td>street photography quenches authenticity pers...</td>\n",
       "    </tr>\n",
       "    <tr>\n",
       "      <th>4</th>\n",
       "      <td>180230</td>\n",
       "      <td>travel</td>\n",
       "      <td>the difference between inner and outer mongoli...</td>\n",
       "      <td>(inner, outer mongolia, photos, flight, boston...</td>\n",
       "      <td>inner outer mongolia photos flight boston cap...</td>\n",
       "    </tr>\n",
       "  </tbody>\n",
       "</table>\n",
       "</div>"
      ],
      "text/plain": [
       "    index       category                                        description  \\\n",
       "0   36956       politics  number of sanctuary congregations doubles sinc...   \n",
       "1   40229       politics  trump and russia: will anything be done? it is...   \n",
       "2   85246  entertainment  kylie jenner dons a bra top & sheer skirt to '...   \n",
       "3  122674    art/culture  street photography in stockholm (pt. 2) i want...   \n",
       "4  180230         travel  the difference between inner and outer mongoli...   \n",
       "\n",
       "                                            keywords  \\\n",
       "0  (sanctuary, congregations, doubles, ’s electio...   \n",
       "1  (russia, apparent, russia's, election, stories...   \n",
       "2  (kylie jenner, skirt, paper towns', screening,...   \n",
       "3  (street photography, quenches, authenticity, p...   \n",
       "4  (inner, outer mongolia, photos, flight, boston...   \n",
       "\n",
       "                                                plot  \n",
       "0   sanctuary congregations doubles s election mo...  \n",
       "1   russia apparent russia s election stories att...  \n",
       "2   kylie jenner skirt paper towns screening invi...  \n",
       "3   street photography quenches authenticity pers...  \n",
       "4   inner outer mongolia photos flight boston cap...  "
      ]
     },
     "execution_count": 18,
     "metadata": {},
     "output_type": "execute_result"
    }
   ],
   "source": [
    "dfs = []\n",
    "\n",
    "# loop through each category and get 3367 rows and append to dfs\n",
    "for category in df['category'].unique():\n",
    "    temp = df[df['category']==category]\n",
    "    dfs.append(temp.sample(3367))\n",
    "    \n",
    "# concatenate dataframes\n",
    "df = pd.concat(dfs)\n",
    "\n",
    "# shuffle dataframe\n",
    "df = df.sample(frac=1).reset_index(drop=True)\n",
    "\n",
    "# first few rows\n",
    "df.head()"
   ]
  },
  {
   "cell_type": "code",
   "execution_count": 19,
   "metadata": {},
   "outputs": [
    {
     "name": "stdout",
     "output_type": "stream",
     "text": [
      "\n",
      "Category count: 11\n",
      "business                  3367\n",
      "travel                    3367\n",
      "lifestyle                 3367\n",
      "politics                  3367\n",
      "sports                    3367\n",
      "entertainment             3367\n",
      "education/Tech/science    3367\n",
      "international             3367\n",
      "art/culture               3367\n",
      "environment               3367\n",
      "food & drink              3367\n",
      "Name: category, dtype: int64\n",
      "\n"
     ]
    }
   ],
   "source": [
    "mapping = dict(enumerate(df['category'].unique()))\n",
    "LABEL_MAPPING = {value: key for key, value in mapping.items()}\n",
    "NUM_CLASSES = len(LABEL_MAPPING)\n",
    "print(f\"\"\"\n",
    "Category count: {len(df['category'].value_counts())}\n",
    "{df['category'].value_counts()}\n",
    "\"\"\")"
   ]
  },
  {
   "cell_type": "code",
   "execution_count": 20,
   "metadata": {},
   "outputs": [],
   "source": [
    "#deleting empty rows\n",
    "df.dropna(inplace=True)"
   ]
  },
  {
   "cell_type": "markdown",
   "metadata": {},
   "source": [
    "Convert DataFrame to csv for future use"
   ]
  },
  {
   "cell_type": "code",
   "execution_count": 21,
   "metadata": {},
   "outputs": [],
   "source": [
    "df.to_csv('ML_data.csv')"
   ]
  },
  {
   "cell_type": "code",
   "execution_count": null,
   "metadata": {},
   "outputs": [],
   "source": []
  },
  {
   "cell_type": "code",
   "execution_count": null,
   "metadata": {},
   "outputs": [],
   "source": []
  }
 ],
 "metadata": {
  "kernelspec": {
   "display_name": "Python 3",
   "language": "python",
   "name": "python3"
  },
  "language_info": {
   "codemirror_mode": {
    "name": "ipython",
    "version": 3
   },
   "file_extension": ".py",
   "mimetype": "text/x-python",
   "name": "python",
   "nbconvert_exporter": "python",
   "pygments_lexer": "ipython3",
   "version": "3.7.3"
  }
 },
 "nbformat": 4,
 "nbformat_minor": 4
}
